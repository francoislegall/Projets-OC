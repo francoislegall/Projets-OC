{
 "cells": [
  {
   "cell_type": "markdown",
   "id": "07a09274",
   "metadata": {},
   "source": [
    "## Import des bibliothèques"
   ]
  },
  {
   "cell_type": "code",
   "execution_count": 1,
   "id": "9d7700d8",
   "metadata": {},
   "outputs": [],
   "source": [
    "import pandas as pd\n",
    "import numpy as np\n",
    "import seaborn as sns\n",
    "import matplotlib.pyplot as plt\n",
    "import sklearn.metrics as sm\n",
    "from sklearn.cluster import KMeans\n",
    "from sklearn import datasets"
   ]
  },
  {
   "cell_type": "markdown",
   "id": "3f0377e8",
   "metadata": {},
   "source": [
    "## Import du df de test"
   ]
  },
  {
   "cell_type": "code",
   "execution_count": 2,
   "id": "1b9a88ff",
   "metadata": {},
   "outputs": [
    {
     "data": {
      "text/html": [
       "<div>\n",
       "<style scoped>\n",
       "    .dataframe tbody tr th:only-of-type {\n",
       "        vertical-align: middle;\n",
       "    }\n",
       "\n",
       "    .dataframe tbody tr th {\n",
       "        vertical-align: top;\n",
       "    }\n",
       "\n",
       "    .dataframe thead th {\n",
       "        text-align: right;\n",
       "    }\n",
       "</style>\n",
       "<table border=\"1\" class=\"dataframe\">\n",
       "  <thead>\n",
       "    <tr style=\"text-align: right;\">\n",
       "      <th></th>\n",
       "      <th>diagonale</th>\n",
       "      <th>hauteur_gauche</th>\n",
       "      <th>hauteur_droite</th>\n",
       "      <th>marge_superieure</th>\n",
       "      <th>longueur</th>\n",
       "      <th>marge_inferieure</th>\n",
       "    </tr>\n",
       "    <tr>\n",
       "      <th>id</th>\n",
       "      <th></th>\n",
       "      <th></th>\n",
       "      <th></th>\n",
       "      <th></th>\n",
       "      <th></th>\n",
       "      <th></th>\n",
       "    </tr>\n",
       "  </thead>\n",
       "  <tbody>\n",
       "    <tr>\n",
       "      <th>A_1</th>\n",
       "      <td>171.76</td>\n",
       "      <td>104.01</td>\n",
       "      <td>103.54</td>\n",
       "      <td>3.30</td>\n",
       "      <td>111.42</td>\n",
       "      <td>5.21</td>\n",
       "    </tr>\n",
       "    <tr>\n",
       "      <th>A_2</th>\n",
       "      <td>171.87</td>\n",
       "      <td>104.17</td>\n",
       "      <td>104.13</td>\n",
       "      <td>3.31</td>\n",
       "      <td>112.09</td>\n",
       "      <td>6.00</td>\n",
       "    </tr>\n",
       "    <tr>\n",
       "      <th>A_3</th>\n",
       "      <td>172.00</td>\n",
       "      <td>104.58</td>\n",
       "      <td>104.29</td>\n",
       "      <td>3.39</td>\n",
       "      <td>111.57</td>\n",
       "      <td>4.99</td>\n",
       "    </tr>\n",
       "    <tr>\n",
       "      <th>A_4</th>\n",
       "      <td>172.49</td>\n",
       "      <td>104.55</td>\n",
       "      <td>104.34</td>\n",
       "      <td>3.03</td>\n",
       "      <td>113.20</td>\n",
       "      <td>4.44</td>\n",
       "    </tr>\n",
       "    <tr>\n",
       "      <th>A_5</th>\n",
       "      <td>171.65</td>\n",
       "      <td>103.63</td>\n",
       "      <td>103.56</td>\n",
       "      <td>3.16</td>\n",
       "      <td>113.33</td>\n",
       "      <td>3.77</td>\n",
       "    </tr>\n",
       "  </tbody>\n",
       "</table>\n",
       "</div>"
      ],
      "text/plain": [
       "     diagonale  hauteur_gauche  hauteur_droite  marge_superieure  longueur  \\\n",
       "id                                                                           \n",
       "A_1     171.76          104.01          103.54              3.30    111.42   \n",
       "A_2     171.87          104.17          104.13              3.31    112.09   \n",
       "A_3     172.00          104.58          104.29              3.39    111.57   \n",
       "A_4     172.49          104.55          104.34              3.03    113.20   \n",
       "A_5     171.65          103.63          103.56              3.16    113.33   \n",
       "\n",
       "     marge_inferieure  \n",
       "id                     \n",
       "A_1              5.21  \n",
       "A_2              6.00  \n",
       "A_3              4.99  \n",
       "A_4              4.44  \n",
       "A_5              3.77  "
      ]
     },
     "execution_count": 2,
     "metadata": {},
     "output_type": "execute_result"
    }
   ],
   "source": [
    "# Récupération du df de test\n",
    "df_test = pd.read_csv(r\"C:\\Users\\franc\\OneDrive\\Documents\\OpenClassrooms\\Projet 10\\dataset_billets_production.csv\")\n",
    "\n",
    "# Suppression de la colonne id et diagonale\n",
    "df_test = df_test.set_index(\"id\")\n",
    "\n",
    "# On renomme les colonnes en français\n",
    "df_test.rename(columns={'length': 'longueur', 'height_left': 'hauteur_gauche', 'height_right': 'hauteur_droite', \n",
    "                          'is_genuine': 'authenticité', 'margin_up': 'marge_superieure',\n",
    "                          'margin_low': 'marge_inferieure', 'diagonal':'diagonale'}, inplace=True)\n",
    "\n",
    "# Réorganisation des colonnes\n",
    "df_test = df_test[['diagonale', 'hauteur_gauche','hauteur_droite','marge_superieure','longueur','marge_inferieure']]\n",
    "df_test"
   ]
  },
  {
   "cell_type": "markdown",
   "id": "22fa3cc3",
   "metadata": {},
   "source": [
    "## Import du df_final"
   ]
  },
  {
   "cell_type": "code",
   "execution_count": 3,
   "id": "72650960",
   "metadata": {
    "scrolled": true
   },
   "outputs": [
    {
     "data": {
      "text/html": [
       "<div>\n",
       "<style scoped>\n",
       "    .dataframe tbody tr th:only-of-type {\n",
       "        vertical-align: middle;\n",
       "    }\n",
       "\n",
       "    .dataframe tbody tr th {\n",
       "        vertical-align: top;\n",
       "    }\n",
       "\n",
       "    .dataframe thead th {\n",
       "        text-align: right;\n",
       "    }\n",
       "</style>\n",
       "<table border=\"1\" class=\"dataframe\">\n",
       "  <thead>\n",
       "    <tr style=\"text-align: right;\">\n",
       "      <th></th>\n",
       "      <th>authenticité</th>\n",
       "      <th>diagonale</th>\n",
       "      <th>hauteur_gauche</th>\n",
       "      <th>hauteur_droite</th>\n",
       "      <th>marge_superieure</th>\n",
       "      <th>longueur</th>\n",
       "      <th>marge_inferieure</th>\n",
       "    </tr>\n",
       "  </thead>\n",
       "  <tbody>\n",
       "    <tr>\n",
       "      <th>0</th>\n",
       "      <td>True</td>\n",
       "      <td>171.81</td>\n",
       "      <td>104.86</td>\n",
       "      <td>104.95</td>\n",
       "      <td>2.89</td>\n",
       "      <td>112.83</td>\n",
       "      <td>4.52</td>\n",
       "    </tr>\n",
       "    <tr>\n",
       "      <th>1</th>\n",
       "      <td>True</td>\n",
       "      <td>171.46</td>\n",
       "      <td>103.36</td>\n",
       "      <td>103.66</td>\n",
       "      <td>2.99</td>\n",
       "      <td>113.09</td>\n",
       "      <td>3.77</td>\n",
       "    </tr>\n",
       "    <tr>\n",
       "      <th>2</th>\n",
       "      <td>True</td>\n",
       "      <td>172.69</td>\n",
       "      <td>104.48</td>\n",
       "      <td>103.50</td>\n",
       "      <td>2.94</td>\n",
       "      <td>113.16</td>\n",
       "      <td>4.40</td>\n",
       "    </tr>\n",
       "    <tr>\n",
       "      <th>3</th>\n",
       "      <td>True</td>\n",
       "      <td>171.36</td>\n",
       "      <td>103.91</td>\n",
       "      <td>103.94</td>\n",
       "      <td>3.01</td>\n",
       "      <td>113.51</td>\n",
       "      <td>3.62</td>\n",
       "    </tr>\n",
       "    <tr>\n",
       "      <th>4</th>\n",
       "      <td>True</td>\n",
       "      <td>171.73</td>\n",
       "      <td>104.28</td>\n",
       "      <td>103.46</td>\n",
       "      <td>3.48</td>\n",
       "      <td>112.54</td>\n",
       "      <td>4.04</td>\n",
       "    </tr>\n",
       "  </tbody>\n",
       "</table>\n",
       "</div>"
      ],
      "text/plain": [
       "   authenticité  diagonale  hauteur_gauche  hauteur_droite  marge_superieure  \\\n",
       "0          True     171.81          104.86          104.95              2.89   \n",
       "1          True     171.46          103.36          103.66              2.99   \n",
       "2          True     172.69          104.48          103.50              2.94   \n",
       "3          True     171.36          103.91          103.94              3.01   \n",
       "4          True     171.73          104.28          103.46              3.48   \n",
       "\n",
       "   longueur  marge_inferieure  \n",
       "0    112.83              4.52  \n",
       "1    113.09              3.77  \n",
       "2    113.16              4.40  \n",
       "3    113.51              3.62  \n",
       "4    112.54              4.04  "
      ]
     },
     "execution_count": 3,
     "metadata": {},
     "output_type": "execute_result"
    }
   ],
   "source": [
    "# Récupération du df complet issu d'une régression linéaire\n",
    "df_final = pd.read_csv(r\"C:\\Users\\franc\\OneDrive\\Documents\\OpenClassrooms\\Projet 10\\df_billet_complet.csv\")\n",
    "\n",
    "# Suppression de la colonne Unnamed: 0\n",
    "df_final = df_final.drop(['Unnamed: 0'], axis=1)\n",
    "df_final.head()"
   ]
  },
  {
   "cell_type": "code",
   "execution_count": 4,
   "id": "245f82e3",
   "metadata": {},
   "outputs": [],
   "source": [
    "# Suppression de la colonne Authenticite\n",
    "df_final_num = df_final.drop(['authenticité'], axis=1)"
   ]
  },
  {
   "cell_type": "markdown",
   "id": "e20cc5da",
   "metadata": {},
   "source": [
    "## Kmeans\n",
    "### Détermination du nombre optimal de clusters"
   ]
  },
  {
   "cell_type": "code",
   "execution_count": 5,
   "id": "50c16260",
   "metadata": {},
   "outputs": [
    {
     "name": "stderr",
     "output_type": "stream",
     "text": [
      "C:\\Users\\franc\\anaconda3\\lib\\site-packages\\sklearn\\cluster\\_kmeans.py:1036: UserWarning: KMeans is known to have a memory leak on Windows with MKL, when there are less chunks than available threads. You can avoid it by setting the environment variable OMP_NUM_THREADS=6.\n",
      "  warnings.warn(\n"
     ]
    },
    {
     "data": {
      "image/png": "[encoded data removed]",
      "text/plain": [
       "<Figure size 640x480 with 1 Axes>"
      ]
     },
     "metadata": {},
     "output_type": "display_data"
    }
   ],
   "source": [
    "tab=[]\n",
    "for i in range(1,10):\n",
    "    kmeans=KMeans(n_clusters=i)\n",
    "    kmeans.fit(df_final_num)\n",
    "    tab.append(kmeans.inertia_)\n",
    "plt.plot(range(1,10),tab)\n",
    "plt.title(\"Eblow method / Méthode du coude\")\n",
    "plt.xlabel(\"Nombre de clusters\")\n",
    "plt.ylabel(\"Inertie intra-classe\")\n",
    "plt.show()"
   ]
  },
  {
   "cell_type": "markdown",
   "id": "e66bc040",
   "metadata": {},
   "source": [
    "On constate ici que l'inertie nous suggère 2 clusters, ce qui va nous permettre de cibler les 2 catégories cibles (Vrais / Faux billets)."
   ]
  },
  {
   "cell_type": "markdown",
   "id": "f799ffef",
   "metadata": {},
   "source": [
    "## Réalisation des Kmeans à 2 clusters :"
   ]
  },
  {
   "cell_type": "code",
   "execution_count": 6,
   "id": "cbf56203",
   "metadata": {},
   "outputs": [
    {
     "data": {
      "text/plain": [
       "KMeans(n_clusters=2)"
      ]
     },
     "execution_count": 6,
     "metadata": {},
     "output_type": "execute_result"
    }
   ],
   "source": [
    "# Création du modèle\n",
    "kmeans = KMeans(n_clusters=2)\n",
    "\n",
    "# Entrainement du modèle\n",
    "kmeans.fit(df_final_num)"
   ]
  },
  {
   "cell_type": "code",
   "execution_count": 7,
   "id": "b331bf21",
   "metadata": {},
   "outputs": [],
   "source": [
    "# Récupération de la prédiction des Kmeans\n",
    "clusters = kmeans.labels_"
   ]
  },
  {
   "cell_type": "code",
   "execution_count": 8,
   "id": "a7383d79",
   "metadata": {},
   "outputs": [
    {
     "data": {
      "text/html": [
       "<div>\n",
       "<style scoped>\n",
       "    .dataframe tbody tr th:only-of-type {\n",
       "        vertical-align: middle;\n",
       "    }\n",
       "\n",
       "    .dataframe tbody tr th {\n",
       "        vertical-align: top;\n",
       "    }\n",
       "\n",
       "    .dataframe thead th {\n",
       "        text-align: right;\n",
       "    }\n",
       "</style>\n",
       "<table border=\"1\" class=\"dataframe\">\n",
       "  <thead>\n",
       "    <tr style=\"text-align: right;\">\n",
       "      <th></th>\n",
       "      <th>authenticité</th>\n",
       "      <th>diagonale</th>\n",
       "      <th>hauteur_gauche</th>\n",
       "      <th>hauteur_droite</th>\n",
       "      <th>marge_superieure</th>\n",
       "      <th>longueur</th>\n",
       "      <th>marge_inferieure</th>\n",
       "      <th>Clusters</th>\n",
       "    </tr>\n",
       "  </thead>\n",
       "  <tbody>\n",
       "    <tr>\n",
       "      <th>0</th>\n",
       "      <td>True</td>\n",
       "      <td>171.81</td>\n",
       "      <td>104.86</td>\n",
       "      <td>104.95</td>\n",
       "      <td>2.89</td>\n",
       "      <td>112.83</td>\n",
       "      <td>4.52</td>\n",
       "      <td>1</td>\n",
       "    </tr>\n",
       "    <tr>\n",
       "      <th>1</th>\n",
       "      <td>True</td>\n",
       "      <td>171.46</td>\n",
       "      <td>103.36</td>\n",
       "      <td>103.66</td>\n",
       "      <td>2.99</td>\n",
       "      <td>113.09</td>\n",
       "      <td>3.77</td>\n",
       "      <td>1</td>\n",
       "    </tr>\n",
       "    <tr>\n",
       "      <th>2</th>\n",
       "      <td>True</td>\n",
       "      <td>172.69</td>\n",
       "      <td>104.48</td>\n",
       "      <td>103.50</td>\n",
       "      <td>2.94</td>\n",
       "      <td>113.16</td>\n",
       "      <td>4.40</td>\n",
       "      <td>1</td>\n",
       "    </tr>\n",
       "    <tr>\n",
       "      <th>3</th>\n",
       "      <td>True</td>\n",
       "      <td>171.36</td>\n",
       "      <td>103.91</td>\n",
       "      <td>103.94</td>\n",
       "      <td>3.01</td>\n",
       "      <td>113.51</td>\n",
       "      <td>3.62</td>\n",
       "      <td>1</td>\n",
       "    </tr>\n",
       "    <tr>\n",
       "      <th>4</th>\n",
       "      <td>True</td>\n",
       "      <td>171.73</td>\n",
       "      <td>104.28</td>\n",
       "      <td>103.46</td>\n",
       "      <td>3.48</td>\n",
       "      <td>112.54</td>\n",
       "      <td>4.04</td>\n",
       "      <td>1</td>\n",
       "    </tr>\n",
       "  </tbody>\n",
       "</table>\n",
       "</div>"
      ],
      "text/plain": [
       "   authenticité  diagonale  hauteur_gauche  hauteur_droite  marge_superieure  \\\n",
       "0          True     171.81          104.86          104.95              2.89   \n",
       "1          True     171.46          103.36          103.66              2.99   \n",
       "2          True     172.69          104.48          103.50              2.94   \n",
       "3          True     171.36          103.91          103.94              3.01   \n",
       "4          True     171.73          104.28          103.46              3.48   \n",
       "\n",
       "   longueur  marge_inferieure  Clusters  \n",
       "0    112.83              4.52         1  \n",
       "1    113.09              3.77         1  \n",
       "2    113.16              4.40         1  \n",
       "3    113.51              3.62         1  \n",
       "4    112.54              4.04         1  "
      ]
     },
     "execution_count": 8,
     "metadata": {},
     "output_type": "execute_result"
    }
   ],
   "source": [
    "# Ajout des clusters de chaque billets sur le df\n",
    "df_Kmeans = df_final.copy()\n",
    "df_Kmeans['Clusters'] = clusters\n",
    "df_Kmeans.head()"
   ]
  },
  {
   "cell_type": "markdown",
   "id": "f5a54424",
   "metadata": {},
   "source": [
    "## Matrice de confusion"
   ]
  },
  {
   "cell_type": "code",
   "execution_count": 9,
   "id": "cfc62219",
   "metadata": {},
   "outputs": [
    {
     "data": {
      "text/html": [
       "<div>\n",
       "<style scoped>\n",
       "    .dataframe tbody tr th:only-of-type {\n",
       "        vertical-align: middle;\n",
       "    }\n",
       "\n",
       "    .dataframe tbody tr th {\n",
       "        vertical-align: top;\n",
       "    }\n",
       "\n",
       "    .dataframe thead th {\n",
       "        text-align: right;\n",
       "    }\n",
       "</style>\n",
       "<table border=\"1\" class=\"dataframe\">\n",
       "  <thead>\n",
       "    <tr style=\"text-align: right;\">\n",
       "      <th></th>\n",
       "      <th>Classe_0</th>\n",
       "      <th>Classe_1</th>\n",
       "    </tr>\n",
       "  </thead>\n",
       "  <tbody>\n",
       "    <tr>\n",
       "      <th>Faux</th>\n",
       "      <td>481</td>\n",
       "      <td>19</td>\n",
       "    </tr>\n",
       "    <tr>\n",
       "      <th>Vrai</th>\n",
       "      <td>2</td>\n",
       "      <td>998</td>\n",
       "    </tr>\n",
       "  </tbody>\n",
       "</table>\n",
       "</div>"
      ],
      "text/plain": [
       "      Classe_0  Classe_1\n",
       "Faux       481        19\n",
       "Vrai         2       998"
      ]
     },
     "execution_count": 9,
     "metadata": {},
     "output_type": "execute_result"
    }
   ],
   "source": [
    "# Création de la matrice de confusion\n",
    "\n",
    "matrice_confusion_km = pd.crosstab(df_final['authenticité'], clusters)\n",
    "matrice_confusion_km.columns= ['Classe_0','Classe_1']\n",
    "matrice_confusion_km.index = ['Faux','Vrai']\n",
    "matrice_confusion_km"
   ]
  },
  {
   "cell_type": "code",
   "execution_count": 10,
   "id": "b1beb59b",
   "metadata": {},
   "outputs": [
    {
     "data": {
      "text/html": [
       "<div>\n",
       "<style scoped>\n",
       "    .dataframe tbody tr th:only-of-type {\n",
       "        vertical-align: middle;\n",
       "    }\n",
       "\n",
       "    .dataframe tbody tr th {\n",
       "        vertical-align: top;\n",
       "    }\n",
       "\n",
       "    .dataframe thead th {\n",
       "        text-align: right;\n",
       "    }\n",
       "</style>\n",
       "<table border=\"1\" class=\"dataframe\">\n",
       "  <thead>\n",
       "    <tr style=\"text-align: right;\">\n",
       "      <th></th>\n",
       "      <th>Predit Faux</th>\n",
       "      <th>Prédit Vrai</th>\n",
       "    </tr>\n",
       "  </thead>\n",
       "  <tbody>\n",
       "    <tr>\n",
       "      <th>Faux</th>\n",
       "      <td>481</td>\n",
       "      <td>19</td>\n",
       "    </tr>\n",
       "    <tr>\n",
       "      <th>Vrai</th>\n",
       "      <td>2</td>\n",
       "      <td>998</td>\n",
       "    </tr>\n",
       "  </tbody>\n",
       "</table>\n",
       "</div>"
      ],
      "text/plain": [
       "      Predit Faux  Prédit Vrai\n",
       "Faux          481           19\n",
       "Vrai            2          998"
      ]
     },
     "execution_count": 10,
     "metadata": {},
     "output_type": "execute_result"
    }
   ],
   "source": [
    "# Changement automatique des noms des clusters : \n",
    "\n",
    "# On regarde le pourcentage de vrais / faux billets par classe --> Ce qui déterminera la véracité de la classe.\n",
    "\n",
    "if matrice_confusion_km.Classe_0[1] > matrice_confusion_km.Classe_0[0]:\n",
    "    matrice_confusion_ok = matrice_confusion_km.rename(columns={'Classe_0': 'Prédit Vrai', 'Classe_1': 'Predit Faux'})\n",
    "else :\n",
    "    matrice_confusion_ok = matrice_confusion_km.rename(columns={'Classe_1': 'Prédit Vrai', 'Classe_0': 'Predit Faux'})\n",
    "\n",
    "matrice_confusion_ok"
   ]
  },
  {
   "cell_type": "code",
   "execution_count": 11,
   "id": "3d02129d",
   "metadata": {},
   "outputs": [
    {
     "name": "stdout",
     "output_type": "stream",
     "text": [
      "Pour info dans notre jeu de données nous avons :\n",
      "Nombre de billet vrais : 1000\n",
      "Nombre de billet faux : 500\n"
     ]
    }
   ],
   "source": [
    "print(\"Pour info dans notre jeu de données nous avons :\")\n",
    "print(\"Nombre de billet vrais :\", df_final.loc[df_final[\"authenticité\"] == 1,:].shape[0])\n",
    "print(\"Nombre de billet faux :\", df_final.loc[df_final[\"authenticité\"] == 0,:].shape[0])"
   ]
  },
  {
   "cell_type": "code",
   "execution_count": 12,
   "id": "35160286",
   "metadata": {},
   "outputs": [
    {
     "name": "stdout",
     "output_type": "stream",
     "text": [
      "Le modèle utilisant les Kmeans a donc une précision de : 94.40 %\n"
     ]
    }
   ],
   "source": [
    "# On peut ainsi calculer un indice de précision du modèle sur les données d'entrainement:\n",
    "from sklearn import metrics\n",
    "\n",
    "preci_km = metrics.adjusted_rand_score(clusters, df_Kmeans[\"authenticité\"])\n",
    "print (\"Le modèle utilisant les Kmeans a donc une précision de :\", \"{:.2f}\".format(100*preci_km) ,\"%\") "
   ]
  },
  {
   "cell_type": "code",
   "execution_count": 13,
   "id": "cf9dafa0",
   "metadata": {
    "scrolled": false
   },
   "outputs": [
    {
     "data": {
      "text/html": [
       "<div>\n",
       "<style scoped>\n",
       "    .dataframe tbody tr th:only-of-type {\n",
       "        vertical-align: middle;\n",
       "    }\n",
       "\n",
       "    .dataframe tbody tr th {\n",
       "        vertical-align: top;\n",
       "    }\n",
       "\n",
       "    .dataframe thead th {\n",
       "        text-align: right;\n",
       "    }\n",
       "</style>\n",
       "<table border=\"1\" class=\"dataframe\">\n",
       "  <thead>\n",
       "    <tr style=\"text-align: right;\">\n",
       "      <th></th>\n",
       "      <th>authenticité</th>\n",
       "      <th>diagonale</th>\n",
       "      <th>hauteur_gauche</th>\n",
       "      <th>hauteur_droite</th>\n",
       "      <th>marge_superieure</th>\n",
       "      <th>longueur</th>\n",
       "      <th>marge_inferieure</th>\n",
       "    </tr>\n",
       "    <tr>\n",
       "      <th>Clusters</th>\n",
       "      <th></th>\n",
       "      <th></th>\n",
       "      <th></th>\n",
       "      <th></th>\n",
       "      <th></th>\n",
       "      <th></th>\n",
       "      <th></th>\n",
       "    </tr>\n",
       "  </thead>\n",
       "  <tbody>\n",
       "    <tr>\n",
       "      <th>0</th>\n",
       "      <td>0.004141</td>\n",
       "      <td>171.898634</td>\n",
       "      <td>104.193126</td>\n",
       "      <td>104.145031</td>\n",
       "      <td>3.347909</td>\n",
       "      <td>111.590269</td>\n",
       "      <td>5.241263</td>\n",
       "    </tr>\n",
       "    <tr>\n",
       "      <th>1</th>\n",
       "      <td>0.981318</td>\n",
       "      <td>171.986844</td>\n",
       "      <td>103.951839</td>\n",
       "      <td>103.813579</td>\n",
       "      <td>3.058181</td>\n",
       "      <td>113.195329</td>\n",
       "      <td>4.122629</td>\n",
       "    </tr>\n",
       "  </tbody>\n",
       "</table>\n",
       "</div>"
      ],
      "text/plain": [
       "          authenticité   diagonale  hauteur_gauche  hauteur_droite  \\\n",
       "Clusters                                                             \n",
       "0             0.004141  171.898634      104.193126      104.145031   \n",
       "1             0.981318  171.986844      103.951839      103.813579   \n",
       "\n",
       "          marge_superieure    longueur  marge_inferieure  \n",
       "Clusters                                                  \n",
       "0                 3.347909  111.590269          5.241263  \n",
       "1                 3.058181  113.195329          4.122629  "
      ]
     },
     "execution_count": 13,
     "metadata": {},
     "output_type": "execute_result"
    }
   ],
   "source": [
    "centroids = kmeans.cluster_centers_\n",
    "\n",
    "#description des centroides : \n",
    "df_Kmeans.groupby(\"Clusters\").mean()"
   ]
  },
  {
   "cell_type": "markdown",
   "id": "04e6ac4d",
   "metadata": {},
   "source": [
    "## Algorithme"
   ]
  },
  {
   "cell_type": "markdown",
   "id": "874e23ff",
   "metadata": {},
   "source": [
    "Pour prédire l'authenticité des billets on va : \n",
    "- Etape 1 : Prédire le cluster des billets en utilisant notre modèle de Kmeans\n",
    "- Etape 2 : Interpréter la signification de chaque cluster (Vrai ou Faux)\n",
    "\n",
    "Pour attribuer le cluster au billet on va utiliser la fonction km.predict. \n",
    "Cette fonction prédit le cluster le plus proche possible en utilisant la distance aux centroides.\n",
    "\n",
    "Pour plus d'infos sur la fonction : \n",
    "> https://scikit-learn.org/stable/modules/generated/sklearn.cluster.KMeans.html pour plus d'infos\n",
    "> ou encore : https://stackoverflow.com/questions/54511542/what-is-the-use-of-predict-method-in-kmeans-implementation-of-scikit-learn\n",
    "\n",
    "Ainsi l'algorithme : \n",
    "- Utilise le clustering \"kmeans\" crée a partir des données disponibles et labélisées\n",
    "- On applique ce modèle pour prédire l'authenticité avec kmeans.predict sur les data à tester\n",
    "- On liste les billets prédits comme vrai/faux\n",
    "- On rappelle la précision du modèle"
   ]
  },
  {
   "cell_type": "code",
   "execution_count": 14,
   "id": "7c840223",
   "metadata": {},
   "outputs": [],
   "source": [
    "#Algorithme : \n",
    "def test_Kmeans(data) :\n",
    "    data_algo_km = kmeans.predict(data)\n",
    "    data = data.assign(Prediction = data_algo_km)\n",
    "    \n",
    "    if matrice_confusion_km.Classe_0[1] > matrice_confusion_km.Classe_0[0]:\n",
    "        v = data.query(\"Prediction == 0\").index.tolist()\n",
    "        f = data.query(\"Prediction == 1\").index.tolist()\n",
    "    \n",
    "    else :\n",
    "        v = data.query(\"Prediction == 1\").index.tolist()\n",
    "        f = data.query(\"Prediction == 0\").index.tolist()\n",
    "        \n",
    "    print(\"les Billets suivants sont vraies :\", v)\n",
    "    print(\"Les Billets suivants sont des faux : \", f)\n",
    "    print(\"La précision de la prédiction est de :\", \"{:.2f}\".format(100* preci_km) ,\"%\")"
   ]
  },
  {
   "cell_type": "code",
   "execution_count": 15,
   "id": "cf5af92b",
   "metadata": {},
   "outputs": [
    {
     "name": "stdout",
     "output_type": "stream",
     "text": [
      "les Billets suivants sont vraies : ['A_4', 'A_5']\n",
      "Les Billets suivants sont des faux :  ['A_1', 'A_2', 'A_3']\n",
      "La précision de la prédiction est de : 94.40 %\n"
     ]
    }
   ],
   "source": [
    "test_Kmeans(df_test)"
   ]
  }
 ],
 "metadata": {
  "kernelspec": {
   "display_name": "Python 3 (ipykernel)",
   "language": "python",
   "name": "python3"
  },
  "language_info": {
   "codemirror_mode": {
    "name": "ipython",
    "version": 3
   },
   "file_extension": ".py",
   "mimetype": "text/x-python",
   "name": "python",
   "nbconvert_exporter": "python",
   "pygments_lexer": "ipython3",
   "version": "3.9.13"
  }
 },
 "nbformat": 4,
 "nbformat_minor": 5
}
