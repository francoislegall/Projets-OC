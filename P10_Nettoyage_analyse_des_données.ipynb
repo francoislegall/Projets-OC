{
 "cells": [
  {
   "cell_type": "code",
   "execution_count": 1,
   "id": "257f25d2",
   "metadata": {},
   "outputs": [],
   "source": [
    "import pandas as pd\n",
    "import numpy as np\n",
    "import seaborn as sns\n",
    "import matplotlib.pyplot as plt\n",
    "import statsmodels.api as sm\n",
    "import statsmodels.formula.api as smf\n",
    "import statsmodels\n",
    "from scipy.stats import t, shapiro\n",
    "from statsmodels.stats.outliers_influence import variance_inflation_factor"
   ]
  },
  {
   "cell_type": "code",
   "execution_count": 2,
   "id": "fe9f8be0",
   "metadata": {},
   "outputs": [],
   "source": [
    "# Chargement du df\n",
    "df_billet = pd.read_csv(r\"C:\\Users\\franc\\OneDrive\\Documents\\OpenClassrooms\\Projet 10\\dataset_billet.csv\", sep=';')"
   ]
  },
  {
   "cell_type": "code",
   "execution_count": 3,
   "id": "49ef53a4",
   "metadata": {},
   "outputs": [
    {
     "data": {
      "text/html": [
       "<div>\n",
       "<style scoped>\n",
       "    .dataframe tbody tr th:only-of-type {\n",
       "        vertical-align: middle;\n",
       "    }\n",
       "\n",
       "    .dataframe tbody tr th {\n",
       "        vertical-align: top;\n",
       "    }\n",
       "\n",
       "    .dataframe thead th {\n",
       "        text-align: right;\n",
       "    }\n",
       "</style>\n",
       "<table border=\"1\" class=\"dataframe\">\n",
       "  <thead>\n",
       "    <tr style=\"text-align: right;\">\n",
       "      <th></th>\n",
       "      <th>is_genuine</th>\n",
       "      <th>diagonal</th>\n",
       "      <th>height_left</th>\n",
       "      <th>height_right</th>\n",
       "      <th>margin_low</th>\n",
       "      <th>margin_up</th>\n",
       "      <th>length</th>\n",
       "    </tr>\n",
       "  </thead>\n",
       "  <tbody>\n",
       "    <tr>\n",
       "      <th>0</th>\n",
       "      <td>True</td>\n",
       "      <td>171.81</td>\n",
       "      <td>104.86</td>\n",
       "      <td>104.95</td>\n",
       "      <td>4.52</td>\n",
       "      <td>2.89</td>\n",
       "      <td>112.83</td>\n",
       "    </tr>\n",
       "    <tr>\n",
       "      <th>1</th>\n",
       "      <td>True</td>\n",
       "      <td>171.46</td>\n",
       "      <td>103.36</td>\n",
       "      <td>103.66</td>\n",
       "      <td>3.77</td>\n",
       "      <td>2.99</td>\n",
       "      <td>113.09</td>\n",
       "    </tr>\n",
       "    <tr>\n",
       "      <th>2</th>\n",
       "      <td>True</td>\n",
       "      <td>172.69</td>\n",
       "      <td>104.48</td>\n",
       "      <td>103.50</td>\n",
       "      <td>4.40</td>\n",
       "      <td>2.94</td>\n",
       "      <td>113.16</td>\n",
       "    </tr>\n",
       "    <tr>\n",
       "      <th>3</th>\n",
       "      <td>True</td>\n",
       "      <td>171.36</td>\n",
       "      <td>103.91</td>\n",
       "      <td>103.94</td>\n",
       "      <td>3.62</td>\n",
       "      <td>3.01</td>\n",
       "      <td>113.51</td>\n",
       "    </tr>\n",
       "    <tr>\n",
       "      <th>4</th>\n",
       "      <td>True</td>\n",
       "      <td>171.73</td>\n",
       "      <td>104.28</td>\n",
       "      <td>103.46</td>\n",
       "      <td>4.04</td>\n",
       "      <td>3.48</td>\n",
       "      <td>112.54</td>\n",
       "    </tr>\n",
       "  </tbody>\n",
       "</table>\n",
       "</div>"
      ],
      "text/plain": [
       "   is_genuine  diagonal  height_left  height_right  margin_low  margin_up  \\\n",
       "0        True    171.81       104.86        104.95        4.52       2.89   \n",
       "1        True    171.46       103.36        103.66        3.77       2.99   \n",
       "2        True    172.69       104.48        103.50        4.40       2.94   \n",
       "3        True    171.36       103.91        103.94        3.62       3.01   \n",
       "4        True    171.73       104.28        103.46        4.04       3.48   \n",
       "\n",
       "   length  \n",
       "0  112.83  \n",
       "1  113.09  \n",
       "2  113.16  \n",
       "3  113.51  \n",
       "4  112.54  "
      ]
     },
     "execution_count": 3,
     "metadata": {},
     "output_type": "execute_result"
    }
   ],
   "source": [
    "df_billet.head()"
   ]
  },
  {
   "cell_type": "code",
   "execution_count": 4,
   "id": "a769eccd",
   "metadata": {},
   "outputs": [],
   "source": [
    "# On renomme les colonnes en français\n",
    "df_billet.rename(columns={'length': 'longueur', 'height_left': 'hauteur_gauche', 'height_right': 'hauteur_droite', \n",
    "                          'diagonal': 'diagonale', 'is_genuine': 'authenticité', 'margin_up': 'marge_superieure',\n",
    "                          'margin_low': 'marge_inferieure'}, inplace=True)"
   ]
  },
  {
   "cell_type": "code",
   "execution_count": 5,
   "id": "c900a909",
   "metadata": {
    "scrolled": true
   },
   "outputs": [
    {
     "name": "stdout",
     "output_type": "stream",
     "text": [
      "<class 'pandas.core.frame.DataFrame'>\n",
      "RangeIndex: 1500 entries, 0 to 1499\n",
      "Data columns (total 7 columns):\n",
      " #   Column            Non-Null Count  Dtype  \n",
      "---  ------            --------------  -----  \n",
      " 0   authenticité      1500 non-null   bool   \n",
      " 1   diagonale         1500 non-null   float64\n",
      " 2   hauteur_gauche    1500 non-null   float64\n",
      " 3   hauteur_droite    1500 non-null   float64\n",
      " 4   marge_inferieure  1463 non-null   float64\n",
      " 5   marge_superieure  1500 non-null   float64\n",
      " 6   longueur          1500 non-null   float64\n",
      "dtypes: bool(1), float64(6)\n",
      "memory usage: 71.9 KB\n"
     ]
    }
   ],
   "source": [
    "# Vérification des valeurs vides\n",
    "df_billet.info()"
   ]
  },
  {
   "cell_type": "markdown",
   "id": "5274dfbd",
   "metadata": {},
   "source": [
    "#### Il manque 37 valeurs sur la colonne \"marge_inferieure\", nous allons utiliser une régression linéaire pour déterminer les valeurs vides."
   ]
  },
  {
   "cell_type": "markdown",
   "id": "9574ef7a",
   "metadata": {},
   "source": [
    "# Regréssion linéaire multiple"
   ]
  },
  {
   "cell_type": "markdown",
   "id": "b4463279",
   "metadata": {},
   "source": [
    "https://openclassrooms.com/fr/courses/4525326-realisez-des-modelisations-de-donnees-performantes/5754144-selectionnez-automatiquement-un-modele"
   ]
  },
  {
   "cell_type": "markdown",
   "id": "075f591d",
   "metadata": {},
   "source": [
    "### Procédure descendante ou backward"
   ]
  },
  {
   "cell_type": "code",
   "execution_count": 32,
   "id": "fe5048fc",
   "metadata": {},
   "outputs": [
    {
     "name": "stdout",
     "output_type": "stream",
     "text": [
      "<class 'pandas.core.frame.DataFrame'>\n",
      "Int64Index: 1500 entries, 0 to 1499\n",
      "Data columns (total 7 columns):\n",
      " #   Column            Non-Null Count  Dtype  \n",
      "---  ------            --------------  -----  \n",
      " 0   authenticité      1500 non-null   bool   \n",
      " 1   diagonale         1500 non-null   float64\n",
      " 2   hauteur_gauche    1500 non-null   float64\n",
      " 3   hauteur_droite    1500 non-null   float64\n",
      " 4   marge_superieure  1500 non-null   float64\n",
      " 5   longueur          1500 non-null   float64\n",
      " 6   marge_inferieure  1500 non-null   float64\n",
      "dtypes: bool(1), float64(6)\n",
      "memory usage: 83.5 KB\n"
     ]
    }
   ],
   "source": [
    "# On supprimme les lignes vides\n",
    "df_billet_RegLin = df_billet.dropna()\n",
    "df_billet_RegLin.info()"
   ]
  },
  {
   "cell_type": "code",
   "execution_count": 7,
   "id": "690d3e49",
   "metadata": {
    "scrolled": false
   },
   "outputs": [
    {
     "name": "stdout",
     "output_type": "stream",
     "text": [
      "                            OLS Regression Results                            \n",
      "==============================================================================\n",
      "Dep. Variable:       marge_inferieure   R-squared:                       0.617\n",
      "Model:                            OLS   Adj. R-squared:                  0.615\n",
      "Method:                 Least Squares   F-statistic:                     390.7\n",
      "Date:                Sat, 18 Mar 2023   Prob (F-statistic):          4.75e-299\n",
      "Time:                        16:28:33   Log-Likelihood:                -774.14\n",
      "No. Observations:                1463   AIC:                             1562.\n",
      "Df Residuals:                    1456   BIC:                             1599.\n",
      "Df Model:                           6                                         \n",
      "Covariance Type:            nonrobust                                         \n",
      "========================================================================================\n",
      "                           coef    std err          t      P>|t|      [0.025      0.975]\n",
      "----------------------------------------------------------------------------------------\n",
      "Intercept                2.8668      8.316      0.345      0.730     -13.445      19.179\n",
      "authenticité[T.True]    -1.1406      0.050    -23.028      0.000      -1.238      -1.043\n",
      "diagonale               -0.0130      0.036     -0.364      0.716      -0.083       0.057\n",
      "hauteur_gauche           0.0283      0.039      0.727      0.468      -0.048       0.105\n",
      "hauteur_droite           0.0267      0.038      0.701      0.484      -0.048       0.102\n",
      "marge_superieure        -0.2128      0.059     -3.621      0.000      -0.328      -0.098\n",
      "longueur                -0.0039      0.023     -0.166      0.868      -0.050       0.042\n",
      "==============================================================================\n",
      "Omnibus:                       21.975   Durbin-Watson:                   2.038\n",
      "Prob(Omnibus):                  0.000   Jarque-Bera (JB):               37.993\n",
      "Skew:                           0.061   Prob(JB):                     5.62e-09\n",
      "Kurtosis:                       3.780   Cond. No.                     1.95e+05\n",
      "==============================================================================\n",
      "\n",
      "Notes:\n",
      "[1] Standard Errors assume that the covariance matrix of the errors is correctly specified.\n",
      "[2] The condition number is large, 1.95e+05. This might indicate that there are\n",
      "strong multicollinearity or other numerical problems.\n"
     ]
    }
   ],
   "source": [
    "import statsmodels.formula.api as smf\n",
    "reg_multi = smf.ols('marge_inferieure~authenticité+diagonale+hauteur_gauche+hauteur_droite+marge_superieure+longueur', data=df_billet_RegLin).fit()\n",
    "print(reg_multi.summary())"
   ]
  },
  {
   "cell_type": "markdown",
   "id": "8bd5f1fb",
   "metadata": {},
   "source": [
    "On constate ici que certains paramètres ne sont pas significatifs, ils ont des P-valeurs > 5%, c'est le cas de:\n",
    "- longueur\n",
    "- diagonale"
   ]
  },
  {
   "cell_type": "markdown",
   "id": "1323c5a0",
   "metadata": {},
   "source": [
    "### Retirez les variables non significatives\n",
    "On va donc maintenant retirer les variables non significatives. On commence par la moins significative : la longueur, car elle a une p-valeur de 0.87."
   ]
  },
  {
   "cell_type": "code",
   "execution_count": 8,
   "id": "e62e5739",
   "metadata": {
    "scrolled": true
   },
   "outputs": [
    {
     "name": "stdout",
     "output_type": "stream",
     "text": [
      "                            OLS Regression Results                            \n",
      "==============================================================================\n",
      "Dep. Variable:       marge_inferieure   R-squared:                       0.617\n",
      "Model:                            OLS   Adj. R-squared:                  0.616\n",
      "Method:                 Least Squares   F-statistic:                     469.2\n",
      "Date:                Sat, 18 Mar 2023   Prob (F-statistic):          2.12e-300\n",
      "Time:                        16:28:33   Log-Likelihood:                -774.15\n",
      "No. Observations:                1463   AIC:                             1560.\n",
      "Df Residuals:                    1457   BIC:                             1592.\n",
      "Df Model:                           5                                         \n",
      "Covariance Type:            nonrobust                                         \n",
      "========================================================================================\n",
      "                           coef    std err          t      P>|t|      [0.025      0.975]\n",
      "----------------------------------------------------------------------------------------\n",
      "Intercept                2.4247      7.873      0.308      0.758     -13.019      17.868\n",
      "authenticité[T.True]    -1.1468      0.033    -35.058      0.000      -1.211      -1.083\n",
      "diagonale               -0.0129      0.036     -0.360      0.719      -0.083       0.057\n",
      "hauteur_gauche           0.0282      0.039      0.726      0.468      -0.048       0.105\n",
      "hauteur_droite           0.0266      0.038      0.697      0.486      -0.048       0.101\n",
      "marge_superieure        -0.2128      0.059     -3.622      0.000      -0.328      -0.098\n",
      "==============================================================================\n",
      "Omnibus:                       22.048   Durbin-Watson:                   2.038\n",
      "Prob(Omnibus):                  0.000   Jarque-Bera (JB):               38.188\n",
      "Skew:                           0.060   Prob(JB):                     5.10e-09\n",
      "Kurtosis:                       3.782   Cond. No.                     1.66e+05\n",
      "==============================================================================\n",
      "\n",
      "Notes:\n",
      "[1] Standard Errors assume that the covariance matrix of the errors is correctly specified.\n",
      "[2] The condition number is large, 1.66e+05. This might indicate that there are\n",
      "strong multicollinearity or other numerical problems.\n"
     ]
    }
   ],
   "source": [
    "reg_multi = smf.ols('marge_inferieure~authenticité+diagonale+hauteur_gauche+hauteur_droite+marge_superieure', data=df_billet_RegLin).fit()\n",
    "print(reg_multi.summary())"
   ]
  },
  {
   "cell_type": "markdown",
   "id": "133cfdfa",
   "metadata": {},
   "source": [
    "On voit alors que c'est maintenant la diagonale, avec une p-valeur de 0.72, qui est la moins significative. On l'enlève donc."
   ]
  },
  {
   "cell_type": "code",
   "execution_count": 9,
   "id": "2ecb23a1",
   "metadata": {
    "scrolled": true
   },
   "outputs": [
    {
     "name": "stdout",
     "output_type": "stream",
     "text": [
      "                            OLS Regression Results                            \n",
      "==============================================================================\n",
      "Dep. Variable:       marge_inferieure   R-squared:                       0.617\n",
      "Model:                            OLS   Adj. R-squared:                  0.616\n",
      "Method:                 Least Squares   F-statistic:                     586.8\n",
      "Date:                Sat, 18 Mar 2023   Prob (F-statistic):          8.76e-302\n",
      "Time:                        16:28:33   Log-Likelihood:                -774.21\n",
      "No. Observations:                1463   AIC:                             1558.\n",
      "Df Residuals:                    1458   BIC:                             1585.\n",
      "Df Model:                           4                                         \n",
      "Covariance Type:            nonrobust                                         \n",
      "========================================================================================\n",
      "                           coef    std err          t      P>|t|      [0.025      0.975]\n",
      "----------------------------------------------------------------------------------------\n",
      "Intercept                0.3902      5.476      0.071      0.943     -10.351      11.132\n",
      "authenticité[T.True]    -1.1485      0.032    -35.516      0.000      -1.212      -1.085\n",
      "hauteur_gauche           0.0273      0.039      0.702      0.483      -0.049       0.103\n",
      "hauteur_droite           0.0259      0.038      0.681      0.496      -0.049       0.101\n",
      "marge_superieure        -0.2134      0.059     -3.634      0.000      -0.329      -0.098\n",
      "==============================================================================\n",
      "Omnibus:                       22.292   Durbin-Watson:                   2.038\n",
      "Prob(Omnibus):                  0.000   Jarque-Bera (JB):               38.839\n",
      "Skew:                           0.059   Prob(JB):                     3.68e-09\n",
      "Kurtosis:                       3.790   Cond. No.                     7.49e+04\n",
      "==============================================================================\n",
      "\n",
      "Notes:\n",
      "[1] Standard Errors assume that the covariance matrix of the errors is correctly specified.\n",
      "[2] The condition number is large, 7.49e+04. This might indicate that there are\n",
      "strong multicollinearity or other numerical problems.\n"
     ]
    }
   ],
   "source": [
    "reg_multi = smf.ols('marge_inferieure~authenticité+hauteur_gauche+hauteur_droite+marge_superieure', data=df_billet_RegLin).fit()\n",
    "print(reg_multi.summary())"
   ]
  },
  {
   "cell_type": "markdown",
   "id": "4f1b0e62",
   "metadata": {},
   "source": [
    "L'ensemble des paramètres sont désormais significatifs, ils ont une P-valeur < 5%. Nous allons donc garder uniquement ces variables pour effectuer notre régression linéaire.\n",
    "\n",
    "Le R2 permet d'évaluer la qualité de la regression linéaire\n",
    "- R2 = 0.62\n",
    "\n",
    "Ce n'est pas un score élevé, néanmoins c'est le plus optimal en fonction des paramètres que nous avons."
   ]
  },
  {
   "cell_type": "code",
   "execution_count": 10,
   "id": "6de0b6e9",
   "metadata": {
    "scrolled": true
   },
   "outputs": [
    {
     "name": "stdout",
     "output_type": "stream",
     "text": [
      "<class 'pandas.core.frame.DataFrame'>\n",
      "Int64Index: 37 entries, 72 to 1438\n",
      "Data columns (total 4 columns):\n",
      " #   Column            Non-Null Count  Dtype  \n",
      "---  ------            --------------  -----  \n",
      " 0   authenticité      37 non-null     bool   \n",
      " 1   hauteur_gauche    37 non-null     float64\n",
      " 2   hauteur_droite    37 non-null     float64\n",
      " 3   marge_superieure  37 non-null     float64\n",
      "dtypes: bool(1), float64(3)\n",
      "memory usage: 1.2 KB\n"
     ]
    }
   ],
   "source": [
    "# Création d'un df avec seulement les billets avec des valeurs de marge_inferieure vides\n",
    "df_billet_vide = df_billet[df_billet.isnull().any(1)]\n",
    "df_billet_vide = df_billet_vide.drop(['diagonale', 'marge_inferieure', 'longueur'], axis=1)\n",
    "df_billet_vide.info()"
   ]
  },
  {
   "cell_type": "code",
   "execution_count": 11,
   "id": "4fc6662a",
   "metadata": {},
   "outputs": [],
   "source": [
    "previsions = reg_multi.predict(df_billet_vide)"
   ]
  },
  {
   "cell_type": "code",
   "execution_count": 12,
   "id": "f8b583a5",
   "metadata": {
    "scrolled": false
   },
   "outputs": [
    {
     "data": {
      "text/html": [
       "<div>\n",
       "<style scoped>\n",
       "    .dataframe tbody tr th:only-of-type {\n",
       "        vertical-align: middle;\n",
       "    }\n",
       "\n",
       "    .dataframe tbody tr th {\n",
       "        vertical-align: top;\n",
       "    }\n",
       "\n",
       "    .dataframe thead th {\n",
       "        text-align: right;\n",
       "    }\n",
       "</style>\n",
       "<table border=\"1\" class=\"dataframe\">\n",
       "  <thead>\n",
       "    <tr style=\"text-align: right;\">\n",
       "      <th></th>\n",
       "      <th>marge_inferieure</th>\n",
       "    </tr>\n",
       "  </thead>\n",
       "  <tbody>\n",
       "    <tr>\n",
       "      <th>72</th>\n",
       "      <td>4.062968</td>\n",
       "    </tr>\n",
       "    <tr>\n",
       "      <th>99</th>\n",
       "      <td>4.110282</td>\n",
       "    </tr>\n",
       "    <tr>\n",
       "      <th>151</th>\n",
       "      <td>4.133718</td>\n",
       "    </tr>\n",
       "    <tr>\n",
       "      <th>197</th>\n",
       "      <td>3.986831</td>\n",
       "    </tr>\n",
       "    <tr>\n",
       "      <th>241</th>\n",
       "      <td>4.134682</td>\n",
       "    </tr>\n",
       "  </tbody>\n",
       "</table>\n",
       "</div>"
      ],
      "text/plain": [
       "     marge_inferieure\n",
       "72           4.062968\n",
       "99           4.110282\n",
       "151          4.133718\n",
       "197          3.986831\n",
       "241          4.134682"
      ]
     },
     "execution_count": 12,
     "metadata": {},
     "output_type": "execute_result"
    }
   ],
   "source": [
    "# Récupération des valeurs dans un nouveau df\n",
    "df_prev = pd.DataFrame(previsions, columns = ['marge_inferieure'], index = df_billet_vide.index)\n",
    "df_prev.head()"
   ]
  },
  {
   "cell_type": "markdown",
   "id": "e1dd607e",
   "metadata": {},
   "source": [
    "## Analyse des résultats\n",
    "https://sites.google.com/view/aide-python/statistiques/machine-learning-en-python/régressions-linéaires-en-python"
   ]
  },
  {
   "cell_type": "markdown",
   "id": "f91a6c21",
   "metadata": {},
   "source": [
    "### Colinéarité des variables\n",
    "Deux variables sont dites colinéaires lorsqu'elles sont linéairement dépendantes l'une de l'autre. Concrètement, on pourra dire que deux variables sont colinéaires dès l'instant où la corrélation entre les deux est statistiquement significative."
   ]
  },
  {
   "cell_type": "code",
   "execution_count": 13,
   "id": "7fcae050",
   "metadata": {},
   "outputs": [
    {
     "data": {
      "text/plain": [
       "[2.0169300419915985,\n",
       " 1.1677552361727697,\n",
       " 1.3170647998608134,\n",
       " 1.5948609285174227]"
      ]
     },
     "execution_count": 13,
     "metadata": {},
     "output_type": "execute_result"
    }
   ],
   "source": [
    "variables = reg_multi.model.exog\n",
    "[variance_inflation_factor(variables, i) for i in np.arange(1,variables.shape[1])]"
   ]
  },
  {
   "cell_type": "markdown",
   "id": "5919c870",
   "metadata": {},
   "source": [
    "Ici, tous les coefficients sont inférieurs à 10, il n'y a donc pas de problème de colinéarité sur les 4 variables."
   ]
  },
  {
   "cell_type": "markdown",
   "id": "b492c4c5",
   "metadata": {},
   "source": [
    "### Test d'homoscedasticité des résidus\n",
    "On appelle homscédasticité l'égalité ou constance de la variance d'une variable. Lorsque la variance diffère selon les échantillons, on parle alors d'hétéroscédasticité."
   ]
  },
  {
   "cell_type": "code",
   "execution_count": 14,
   "id": "3dc50fb2",
   "metadata": {},
   "outputs": [
    {
     "name": "stdout",
     "output_type": "stream",
     "text": [
      "p value test Breusch Pagan: 1.889569089071077e-34\n"
     ]
    }
   ],
   "source": [
    "_, pval, __, f_pval = statsmodels.stats.diagnostic.het_breuschpagan(reg_multi.resid, variables)\n",
    "print('p value test Breusch Pagan:', pval)"
   ]
  },
  {
   "cell_type": "markdown",
   "id": "4c90b623",
   "metadata": {},
   "source": [
    "La p-valeur ici est inférieure à $5$%, on rejette donc l'hypothèse $H0$ selon laquelle les variances sont constantes. On est donc ici dans un cas d'hétéroscédasticité."
   ]
  },
  {
   "cell_type": "markdown",
   "id": "3c8c4a68",
   "metadata": {},
   "source": [
    "### Test de normalité des résidus"
   ]
  },
  {
   "cell_type": "code",
   "execution_count": 15,
   "id": "dffe9f32",
   "metadata": {},
   "outputs": [],
   "source": [
    "import math\n",
    "# Récupération des résidus\n",
    "residues = reg_multi.resid_pearson\n",
    "\n",
    "# Normalisation des résidus\n",
    "residues_std = residues/math.sqrt(sum(residues**2)/(len(residues)-1))"
   ]
  },
  {
   "cell_type": "markdown",
   "id": "f93d1959",
   "metadata": {},
   "source": [
    "#### Contrôle graphique par histogramme et QQ-plot"
   ]
  },
  {
   "cell_type": "code",
   "execution_count": 16,
   "id": "398ac2b3",
   "metadata": {},
   "outputs": [
    {
     "data": {
      "text/plain": [
       "Text(0.5, 0, 'Normalized residuals')"
      ]
     },
     "execution_count": 16,
     "metadata": {},
     "output_type": "execute_result"
    },
    {
     "data": {
      "image/png": "[encoded data removed]",
      "text/plain": [
       "<Figure size 640x480 with 1 Axes>"
      ]
     },
     "metadata": {},
     "output_type": "display_data"
    }
   ],
   "source": [
    "plt.hist(residues_std)\n",
    "plt.ylabel('Count')\n",
    "plt.xlabel('Normalized residuals')"
   ]
  },
  {
   "cell_type": "code",
   "execution_count": 17,
   "id": "da2e620d",
   "metadata": {
    "scrolled": true
   },
   "outputs": [
    {
     "data": {
      "image/png": "[encoded data removed]",
      "text/plain": [
       "<Figure size 640x480 with 1 Axes>"
      ]
     },
     "metadata": {},
     "output_type": "display_data"
    }
   ],
   "source": [
    "import statsmodels.api as sm\n",
    "import scipy.stats as stats\n",
    "fig = sm.qqplot(residues_std, stats.t, fit=True,line='45')\n",
    "plt.title(\"QQ plot\")\n",
    "plt.show()"
   ]
  },
  {
   "cell_type": "markdown",
   "id": "5f56b702",
   "metadata": {},
   "source": [
    "Ces 2 graphiques nous permettent de dire que les résidus sont répartis selon une loi normale"
   ]
  },
  {
   "cell_type": "markdown",
   "id": "3bbcf56e",
   "metadata": {},
   "source": [
    "#### Contrôle par un test statistique\n",
    "Nous utiliserons le test de Jarque-Berra, adapté aux grands échantillons (>50). (si échantillon <50 alors test de Shapiro-Wilk)\n",
    "\n",
    "Il nous permet de contrôler l'hypothèse nulle d'une répartition normale. Si p-value > 0.05 <-> Normalité.\n",
    "\n",
    "#### Test de Jarque-Berra"
   ]
  },
  {
   "cell_type": "code",
   "execution_count": 18,
   "id": "198b7126",
   "metadata": {
    "scrolled": true
   },
   "outputs": [
    {
     "name": "stdout",
     "output_type": "stream",
     "text": [
      "3.6823935012364473e-09\n"
     ]
    }
   ],
   "source": [
    "from scipy.stats import jarque_bera\n",
    "x, pval = jarque_bera(residues_std) ; print(pval)"
   ]
  },
  {
   "cell_type": "markdown",
   "id": "a2edcaba",
   "metadata": {},
   "source": [
    "Nous constatons ici que la p-value est < 0.05, ce qui contredit notre analyse graphique.\n",
    "\n",
    "#### Grâce à l'observation des résidus, le fait qu'ils soient proche d'une distribution normale, et le fait que l'échantillon soit de taille suffisante (supérieure à 30) permettent de dire que les résultats obtenus par le modèle linéaire gaussien ne sont pas absurdes."
   ]
  },
  {
   "cell_type": "markdown",
   "id": "4ce2cd0f",
   "metadata": {},
   "source": [
    "## Ajout des valeurs manquantes sur le df_final"
   ]
  },
  {
   "cell_type": "code",
   "execution_count": 19,
   "id": "3f93976e",
   "metadata": {},
   "outputs": [
    {
     "data": {
      "text/html": [
       "<div>\n",
       "<style scoped>\n",
       "    .dataframe tbody tr th:only-of-type {\n",
       "        vertical-align: middle;\n",
       "    }\n",
       "\n",
       "    .dataframe tbody tr th {\n",
       "        vertical-align: top;\n",
       "    }\n",
       "\n",
       "    .dataframe thead th {\n",
       "        text-align: right;\n",
       "    }\n",
       "</style>\n",
       "<table border=\"1\" class=\"dataframe\">\n",
       "  <thead>\n",
       "    <tr style=\"text-align: right;\">\n",
       "      <th></th>\n",
       "      <th>authenticité</th>\n",
       "      <th>diagonale</th>\n",
       "      <th>hauteur_gauche</th>\n",
       "      <th>hauteur_droite</th>\n",
       "      <th>marge_inferieure</th>\n",
       "      <th>marge_superieure</th>\n",
       "      <th>longueur</th>\n",
       "    </tr>\n",
       "  </thead>\n",
       "  <tbody>\n",
       "    <tr>\n",
       "      <th>0</th>\n",
       "      <td>True</td>\n",
       "      <td>171.81</td>\n",
       "      <td>104.86</td>\n",
       "      <td>104.95</td>\n",
       "      <td>4.52</td>\n",
       "      <td>2.89</td>\n",
       "      <td>112.83</td>\n",
       "    </tr>\n",
       "    <tr>\n",
       "      <th>1</th>\n",
       "      <td>True</td>\n",
       "      <td>171.46</td>\n",
       "      <td>103.36</td>\n",
       "      <td>103.66</td>\n",
       "      <td>3.77</td>\n",
       "      <td>2.99</td>\n",
       "      <td>113.09</td>\n",
       "    </tr>\n",
       "    <tr>\n",
       "      <th>2</th>\n",
       "      <td>True</td>\n",
       "      <td>172.69</td>\n",
       "      <td>104.48</td>\n",
       "      <td>103.50</td>\n",
       "      <td>4.40</td>\n",
       "      <td>2.94</td>\n",
       "      <td>113.16</td>\n",
       "    </tr>\n",
       "    <tr>\n",
       "      <th>3</th>\n",
       "      <td>True</td>\n",
       "      <td>171.36</td>\n",
       "      <td>103.91</td>\n",
       "      <td>103.94</td>\n",
       "      <td>3.62</td>\n",
       "      <td>3.01</td>\n",
       "      <td>113.51</td>\n",
       "    </tr>\n",
       "    <tr>\n",
       "      <th>4</th>\n",
       "      <td>True</td>\n",
       "      <td>171.73</td>\n",
       "      <td>104.28</td>\n",
       "      <td>103.46</td>\n",
       "      <td>4.04</td>\n",
       "      <td>3.48</td>\n",
       "      <td>112.54</td>\n",
       "    </tr>\n",
       "  </tbody>\n",
       "</table>\n",
       "</div>"
      ],
      "text/plain": [
       "   authenticité  diagonale  hauteur_gauche  hauteur_droite  marge_inferieure  \\\n",
       "0          True     171.81          104.86          104.95              4.52   \n",
       "1          True     171.46          103.36          103.66              3.77   \n",
       "2          True     172.69          104.48          103.50              4.40   \n",
       "3          True     171.36          103.91          103.94              3.62   \n",
       "4          True     171.73          104.28          103.46              4.04   \n",
       "\n",
       "   marge_superieure  longueur  \n",
       "0              2.89    112.83  \n",
       "1              2.99    113.09  \n",
       "2              2.94    113.16  \n",
       "3              3.01    113.51  \n",
       "4              3.48    112.54  "
      ]
     },
     "execution_count": 19,
     "metadata": {},
     "output_type": "execute_result"
    }
   ],
   "source": [
    "df_billet.head()"
   ]
  },
  {
   "cell_type": "code",
   "execution_count": 20,
   "id": "b4ec5fd9",
   "metadata": {
    "scrolled": true
   },
   "outputs": [
    {
     "name": "stdout",
     "output_type": "stream",
     "text": [
      "<class 'pandas.core.frame.DataFrame'>\n",
      "Int64Index: 1500 entries, 0 to 1499\n",
      "Data columns (total 8 columns):\n",
      " #   Column              Non-Null Count  Dtype  \n",
      "---  ------              --------------  -----  \n",
      " 0   authenticité        1500 non-null   bool   \n",
      " 1   diagonale           1500 non-null   float64\n",
      " 2   hauteur_gauche      1500 non-null   float64\n",
      " 3   hauteur_droite      1500 non-null   float64\n",
      " 4   marge_inferieure_x  1463 non-null   float64\n",
      " 5   marge_superieure    1500 non-null   float64\n",
      " 6   longueur            1500 non-null   float64\n",
      " 7   marge_inferieure_y  37 non-null     float64\n",
      "dtypes: bool(1), float64(7)\n",
      "memory usage: 95.2 KB\n"
     ]
    }
   ],
   "source": [
    "# Jointure du df_prev sur le df_billet (sur l'index)\n",
    "df_billet = df_billet.merge(df_prev, how = 'outer', left_index=True, right_index=True)\n",
    "df_billet.info()"
   ]
  },
  {
   "cell_type": "code",
   "execution_count": 21,
   "id": "cfd0739f",
   "metadata": {
    "scrolled": true
   },
   "outputs": [
    {
     "data": {
      "text/html": [
       "<div>\n",
       "<style scoped>\n",
       "    .dataframe tbody tr th:only-of-type {\n",
       "        vertical-align: middle;\n",
       "    }\n",
       "\n",
       "    .dataframe tbody tr th {\n",
       "        vertical-align: top;\n",
       "    }\n",
       "\n",
       "    .dataframe thead th {\n",
       "        text-align: right;\n",
       "    }\n",
       "</style>\n",
       "<table border=\"1\" class=\"dataframe\">\n",
       "  <thead>\n",
       "    <tr style=\"text-align: right;\">\n",
       "      <th></th>\n",
       "      <th>authenticité</th>\n",
       "      <th>diagonale</th>\n",
       "      <th>hauteur_gauche</th>\n",
       "      <th>hauteur_droite</th>\n",
       "      <th>marge_superieure</th>\n",
       "      <th>longueur</th>\n",
       "      <th>marge_inferieure</th>\n",
       "    </tr>\n",
       "  </thead>\n",
       "  <tbody>\n",
       "    <tr>\n",
       "      <th>0</th>\n",
       "      <td>True</td>\n",
       "      <td>171.81</td>\n",
       "      <td>104.86</td>\n",
       "      <td>104.95</td>\n",
       "      <td>2.89</td>\n",
       "      <td>112.83</td>\n",
       "      <td>4.52</td>\n",
       "    </tr>\n",
       "    <tr>\n",
       "      <th>1</th>\n",
       "      <td>True</td>\n",
       "      <td>171.46</td>\n",
       "      <td>103.36</td>\n",
       "      <td>103.66</td>\n",
       "      <td>2.99</td>\n",
       "      <td>113.09</td>\n",
       "      <td>3.77</td>\n",
       "    </tr>\n",
       "    <tr>\n",
       "      <th>2</th>\n",
       "      <td>True</td>\n",
       "      <td>172.69</td>\n",
       "      <td>104.48</td>\n",
       "      <td>103.50</td>\n",
       "      <td>2.94</td>\n",
       "      <td>113.16</td>\n",
       "      <td>4.40</td>\n",
       "    </tr>\n",
       "    <tr>\n",
       "      <th>3</th>\n",
       "      <td>True</td>\n",
       "      <td>171.36</td>\n",
       "      <td>103.91</td>\n",
       "      <td>103.94</td>\n",
       "      <td>3.01</td>\n",
       "      <td>113.51</td>\n",
       "      <td>3.62</td>\n",
       "    </tr>\n",
       "    <tr>\n",
       "      <th>4</th>\n",
       "      <td>True</td>\n",
       "      <td>171.73</td>\n",
       "      <td>104.28</td>\n",
       "      <td>103.46</td>\n",
       "      <td>3.48</td>\n",
       "      <td>112.54</td>\n",
       "      <td>4.04</td>\n",
       "    </tr>\n",
       "  </tbody>\n",
       "</table>\n",
       "</div>"
      ],
      "text/plain": [
       "   authenticité  diagonale  hauteur_gauche  hauteur_droite  marge_superieure  \\\n",
       "0          True     171.81          104.86          104.95              2.89   \n",
       "1          True     171.46          103.36          103.66              2.99   \n",
       "2          True     172.69          104.48          103.50              2.94   \n",
       "3          True     171.36          103.91          103.94              3.01   \n",
       "4          True     171.73          104.28          103.46              3.48   \n",
       "\n",
       "   longueur  marge_inferieure  \n",
       "0    112.83              4.52  \n",
       "1    113.09              3.77  \n",
       "2    113.16              4.40  \n",
       "3    113.51              3.62  \n",
       "4    112.54              4.04  "
      ]
     },
     "execution_count": 21,
     "metadata": {},
     "output_type": "execute_result"
    }
   ],
   "source": [
    "# Changement du type des colonnes pour pouvoir les combiner x et y\n",
    "df_billet['marge_inferieure_x'] = df_billet['marge_inferieure_x'].astype('str')\n",
    "df_billet['marge_inferieure_y'] = df_billet['marge_inferieure_y'].astype('str')\n",
    "\n",
    "# Suppression des valeurs nan\n",
    "df_billet = df_billet.replace(to_replace=\"nan\", value=\"\")\n",
    "\n",
    "# Cocaténation des 2 colonnes de marge_inférieure temporaires pour combler les valeurs vides\n",
    "df_billet['marge_inferieure'] = df_billet['marge_inferieure_x'] + df_billet['marge_inferieure_y']\n",
    "\n",
    "# Suppression des colonnes inutiles\n",
    "df_billet = df_billet.drop(['marge_inferieure_x', 'marge_inferieure_y'], axis=1)\n",
    "\n",
    "# Changer le type des colonnes\n",
    "df_billet['marge_inferieure'] = df_billet['marge_inferieure'].astype('float')\n",
    "df_billet.head()"
   ]
  },
  {
   "cell_type": "code",
   "execution_count": 22,
   "id": "2aa1eb6a",
   "metadata": {
    "scrolled": true
   },
   "outputs": [
    {
     "name": "stdout",
     "output_type": "stream",
     "text": [
      "<class 'pandas.core.frame.DataFrame'>\n",
      "Int64Index: 1500 entries, 0 to 1499\n",
      "Data columns (total 7 columns):\n",
      " #   Column            Non-Null Count  Dtype  \n",
      "---  ------            --------------  -----  \n",
      " 0   authenticité      1500 non-null   bool   \n",
      " 1   diagonale         1500 non-null   float64\n",
      " 2   hauteur_gauche    1500 non-null   float64\n",
      " 3   hauteur_droite    1500 non-null   float64\n",
      " 4   marge_superieure  1500 non-null   float64\n",
      " 5   longueur          1500 non-null   float64\n",
      " 6   marge_inferieure  1500 non-null   float64\n",
      "dtypes: bool(1), float64(6)\n",
      "memory usage: 83.5 KB\n"
     ]
    }
   ],
   "source": [
    "df_billet.info()"
   ]
  },
  {
   "cell_type": "code",
   "execution_count": 23,
   "id": "dc423c87",
   "metadata": {},
   "outputs": [],
   "source": [
    "# Extraction du df_final en fichier csv\n",
    "df_billet.to_csv(r\"C:\\Users\\franc\\OneDrive\\Documents\\OpenClassrooms\\Projet 10\\df_billet_complet.csv\")"
   ]
  },
  {
   "cell_type": "code",
   "execution_count": 24,
   "id": "767f0e2f",
   "metadata": {},
   "outputs": [],
   "source": [
    "# Suppression de la colonne authenticité --> df numérique\n",
    "df_billet1 = df_billet.drop(['authenticité'], axis=1)"
   ]
  },
  {
   "cell_type": "markdown",
   "id": "0581d7fa",
   "metadata": {},
   "source": [
    "# Analyse descriptive des données"
   ]
  },
  {
   "cell_type": "code",
   "execution_count": 25,
   "id": "6eae9d4c",
   "metadata": {},
   "outputs": [
    {
     "data": {
      "text/plain": [
       "True     1000\n",
       "False     500\n",
       "Name: authenticité, dtype: int64"
      ]
     },
     "execution_count": 25,
     "metadata": {},
     "output_type": "execute_result"
    }
   ],
   "source": [
    "# Vérification du nombre de billers vrai/faux\n",
    "df_billet[\"authenticité\"].value_counts()"
   ]
  },
  {
   "cell_type": "markdown",
   "id": "345f2af2",
   "metadata": {},
   "source": [
    "#### Diagonale"
   ]
  },
  {
   "cell_type": "code",
   "execution_count": 26,
   "id": "54fe2b40",
   "metadata": {
    "scrolled": true
   },
   "outputs": [
    {
     "data": {
      "image/png": "[encoded data removed]",
      "text/plain": [
       "<Figure size 800x500 with 1 Axes>"
      ]
     },
     "metadata": {},
     "output_type": "display_data"
    }
   ],
   "source": [
    "plt.figure(figsize=(8, 5))\n",
    "plt.title(\"Box-plot de la distribution du prix\")\n",
    "sns.set_style(\"whitegrid\")\n",
    "ax = sns.boxplot(x= df_billet[\"authenticité\"], y =df_billet[\"diagonale\"])\n",
    "plt.show()"
   ]
  },
  {
   "cell_type": "markdown",
   "id": "0dc76b3f",
   "metadata": {},
   "source": [
    "#### hauteur_gauche"
   ]
  },
  {
   "cell_type": "code",
   "execution_count": 27,
   "id": "3457d3d8",
   "metadata": {},
   "outputs": [
    {
     "data": {
      "image/png": "[encoded data removed]",
      "text/plain": [
       "<Figure size 800x500 with 1 Axes>"
      ]
     },
     "metadata": {},
     "output_type": "display_data"
    }
   ],
   "source": [
    "plt.figure(figsize=(8, 5))\n",
    "plt.title(\"Box-plot de la distribution du prix\")\n",
    "sns.set_style(\"whitegrid\")\n",
    "ax = sns.boxplot(x= df_billet[\"authenticité\"], y =df_billet[\"hauteur_gauche\"])\n",
    "plt.show()"
   ]
  },
  {
   "cell_type": "markdown",
   "id": "161f3673",
   "metadata": {},
   "source": [
    "#### hauteur_droite"
   ]
  },
  {
   "cell_type": "code",
   "execution_count": 28,
   "id": "6cf3fb0c",
   "metadata": {},
   "outputs": [
    {
     "data": {
      "image/png": "[encoded data removed]",
      "text/plain": [
       "<Figure size 800x500 with 1 Axes>"
      ]
     },
     "metadata": {},
     "output_type": "display_data"
    }
   ],
   "source": [
    "plt.figure(figsize=(8, 5))\n",
    "plt.title(\"Box-plot de la distribution du prix\")\n",
    "sns.set_style(\"whitegrid\")\n",
    "ax = sns.boxplot(x= df_billet[\"authenticité\"], y =df_billet[\"hauteur_droite\"])\n",
    "plt.show()"
   ]
  },
  {
   "cell_type": "markdown",
   "id": "f716961d",
   "metadata": {},
   "source": [
    "#### marge_superieure"
   ]
  },
  {
   "cell_type": "code",
   "execution_count": 29,
   "id": "b155d925",
   "metadata": {},
   "outputs": [
    {
     "data": {
      "image/png": "[encoded data removed]",
      "text/plain": [
       "<Figure size 800x500 with 1 Axes>"
      ]
     },
     "metadata": {},
     "output_type": "display_data"
    }
   ],
   "source": [
    "plt.figure(figsize=(8, 5))\n",
    "plt.title(\"Box-plot de la distribution du prix\")\n",
    "sns.set_style(\"whitegrid\")\n",
    "ax = sns.boxplot(x= df_billet[\"authenticité\"], y =df_billet[\"marge_superieure\"])\n",
    "plt.show()"
   ]
  },
  {
   "cell_type": "markdown",
   "id": "a2b0abd5",
   "metadata": {},
   "source": [
    "#### longueur"
   ]
  },
  {
   "cell_type": "code",
   "execution_count": 30,
   "id": "54be3be3",
   "metadata": {},
   "outputs": [
    {
     "data": {
      "image/png": "[encoded data removed]",
      "text/plain": [
       "<Figure size 800x500 with 1 Axes>"
      ]
     },
     "metadata": {},
     "output_type": "display_data"
    }
   ],
   "source": [
    "plt.figure(figsize=(8, 5))\n",
    "plt.title(\"Box-plot de la distribution du prix\")\n",
    "sns.set_style(\"whitegrid\")\n",
    "ax = sns.boxplot(x= df_billet[\"authenticité\"], y =df_billet[\"longueur\"])\n",
    "plt.show()"
   ]
  },
  {
   "cell_type": "markdown",
   "id": "7c370404",
   "metadata": {},
   "source": [
    "#### marge_inferieure"
   ]
  },
  {
   "cell_type": "code",
   "execution_count": 31,
   "id": "3102acb3",
   "metadata": {},
   "outputs": [
    {
     "data": {
      "image/png": "[encoded data removed]",
      "text/plain": [
       "<Figure size 800x500 with 1 Axes>"
      ]
     },
     "metadata": {},
     "output_type": "display_data"
    }
   ],
   "source": [
    "plt.figure(figsize=(8, 5))\n",
    "plt.title(\"Box-plot de la distribution du prix\")\n",
    "sns.set_style(\"whitegrid\")\n",
    "ax = sns.boxplot(x= df_billet[\"authenticité\"], y =df_billet[\"marge_inferieure\"])\n",
    "plt.show()"
   ]
  },
  {
   "cell_type": "markdown",
   "id": "873c7bdd",
   "metadata": {},
   "source": [
    "## Conclusion de l'analyse descriptive\n",
    "Sur un set de 1500 billets, nous avons:\n",
    "#### - 1000 vrais billets\n",
    "#### - 500 faux billets\n",
    "\n",
    "En moyenne, l'ensemble des faux billets possède des dimensions supérieures à celles des vrais billets, excepté pour la longueur.\n",
    "\n",
    "On remarque également que la différence la plus importante entre les vrais et faux billets se fait sur la longueur et la marge inférieure.\n",
    "\n",
    "Au vu de la dissimilarité des valeurs, on peut donc s'attendre à ce que les dimensions:\n",
    "- longueur, marge inférieure, marge supérieure permettent de différencier le plus efficacement les billets.\n",
    "\n",
    "Les autres dimensions seront moins pertinentes pour cette différenciation."
   ]
  },
  {
   "cell_type": "markdown",
   "id": "8caa3f72",
   "metadata": {},
   "source": [
    "## Nous allons maintenant utiliser ce dataset à des fins de prédictions. Nous utiliseroins pour cela 2 méthodes de machine learning:\n",
    "### - La regression logistique\n",
    "### - Les Kmeans"
   ]
  },
  {
   "cell_type": "code",
   "execution_count": null,
   "id": "64989d13",
   "metadata": {},
   "outputs": [],
   "source": []
  }
 ],
 "metadata": {
  "kernelspec": {
   "display_name": "Python 3 (ipykernel)",
   "language": "python",
   "name": "python3"
  },
  "language_info": {
   "codemirror_mode": {
    "name": "ipython",
    "version": 3
   },
   "file_extension": ".py",
   "mimetype": "text/x-python",
   "name": "python",
   "nbconvert_exporter": "python",
   "pygments_lexer": "ipython3",
   "version": "3.9.13"
  }
 },
 "nbformat": 4,
 "nbformat_minor": 5
}
