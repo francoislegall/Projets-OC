{
 "cells": [
  {
   "cell_type": "markdown",
   "id": "2f868bac",
   "metadata": {},
   "source": [
    "# Importation des bibliothèques"
   ]
  },
  {
   "cell_type": "code",
   "execution_count": 1,
   "id": "90d5f651",
   "metadata": {},
   "outputs": [],
   "source": [
    "import pandas as pd\n",
    "import numpy as np"
   ]
  },
  {
   "cell_type": "markdown",
   "id": "f3715505",
   "metadata": {},
   "source": [
    "# Impoprtation du df_final et du df_test"
   ]
  },
  {
   "cell_type": "code",
   "execution_count": 2,
   "id": "8e460706",
   "metadata": {},
   "outputs": [],
   "source": [
    "# Récupération du df complet issu d'une régression linéaire\n",
    "df_final = pd.read_csv(r\"C:\\Users\\franc\\OneDrive\\Documents\\OpenClassrooms\\Projet 10\\df_billet_complet.csv\")\n",
    "\n",
    "# Récupération du df de test\n",
    "df_test = pd.read_csv(r\"C:\\Users\\franc\\OneDrive\\Documents\\OpenClassrooms\\Projet 10\\df_billet_test.csv\")"
   ]
  },
  {
   "cell_type": "markdown",
   "id": "f6bde035",
   "metadata": {},
   "source": [
    "# Nettoyage des données"
   ]
  },
  {
   "cell_type": "markdown",
   "id": "38aa3b33",
   "metadata": {},
   "source": [
    "#### Données d'entrainement (1500 billets) --> issus de la régression linéaire"
   ]
  },
  {
   "cell_type": "code",
   "execution_count": 3,
   "id": "f2996170",
   "metadata": {
    "scrolled": true
   },
   "outputs": [
    {
     "data": {
      "text/html": [
       "<div>\n",
       "<style scoped>\n",
       "    .dataframe tbody tr th:only-of-type {\n",
       "        vertical-align: middle;\n",
       "    }\n",
       "\n",
       "    .dataframe tbody tr th {\n",
       "        vertical-align: top;\n",
       "    }\n",
       "\n",
       "    .dataframe thead th {\n",
       "        text-align: right;\n",
       "    }\n",
       "</style>\n",
       "<table border=\"1\" class=\"dataframe\">\n",
       "  <thead>\n",
       "    <tr style=\"text-align: right;\">\n",
       "      <th></th>\n",
       "      <th>authenticité</th>\n",
       "      <th>diagonale</th>\n",
       "      <th>hauteur_gauche</th>\n",
       "      <th>hauteur_droite</th>\n",
       "      <th>marge_superieure</th>\n",
       "      <th>longueur</th>\n",
       "      <th>marge_inferieure</th>\n",
       "    </tr>\n",
       "  </thead>\n",
       "  <tbody>\n",
       "    <tr>\n",
       "      <th>0</th>\n",
       "      <td>True</td>\n",
       "      <td>171.81</td>\n",
       "      <td>104.86</td>\n",
       "      <td>104.95</td>\n",
       "      <td>2.89</td>\n",
       "      <td>112.83</td>\n",
       "      <td>4.52</td>\n",
       "    </tr>\n",
       "    <tr>\n",
       "      <th>1</th>\n",
       "      <td>True</td>\n",
       "      <td>171.46</td>\n",
       "      <td>103.36</td>\n",
       "      <td>103.66</td>\n",
       "      <td>2.99</td>\n",
       "      <td>113.09</td>\n",
       "      <td>3.77</td>\n",
       "    </tr>\n",
       "    <tr>\n",
       "      <th>2</th>\n",
       "      <td>True</td>\n",
       "      <td>172.69</td>\n",
       "      <td>104.48</td>\n",
       "      <td>103.50</td>\n",
       "      <td>2.94</td>\n",
       "      <td>113.16</td>\n",
       "      <td>4.40</td>\n",
       "    </tr>\n",
       "    <tr>\n",
       "      <th>3</th>\n",
       "      <td>True</td>\n",
       "      <td>171.36</td>\n",
       "      <td>103.91</td>\n",
       "      <td>103.94</td>\n",
       "      <td>3.01</td>\n",
       "      <td>113.51</td>\n",
       "      <td>3.62</td>\n",
       "    </tr>\n",
       "    <tr>\n",
       "      <th>4</th>\n",
       "      <td>True</td>\n",
       "      <td>171.73</td>\n",
       "      <td>104.28</td>\n",
       "      <td>103.46</td>\n",
       "      <td>3.48</td>\n",
       "      <td>112.54</td>\n",
       "      <td>4.04</td>\n",
       "    </tr>\n",
       "  </tbody>\n",
       "</table>\n",
       "</div>"
      ],
      "text/plain": [
       "   authenticité  diagonale  hauteur_gauche  hauteur_droite  marge_superieure  \\\n",
       "0          True     171.81          104.86          104.95              2.89   \n",
       "1          True     171.46          103.36          103.66              2.99   \n",
       "2          True     172.69          104.48          103.50              2.94   \n",
       "3          True     171.36          103.91          103.94              3.01   \n",
       "4          True     171.73          104.28          103.46              3.48   \n",
       "\n",
       "   longueur  marge_inferieure  \n",
       "0    112.83              4.52  \n",
       "1    113.09              3.77  \n",
       "2    113.16              4.40  \n",
       "3    113.51              3.62  \n",
       "4    112.54              4.04  "
      ]
     },
     "execution_count": 3,
     "metadata": {},
     "output_type": "execute_result"
    }
   ],
   "source": [
    "# Supression des lignes vides\n",
    "df_billet0 = df_final.dropna()\n",
    "df_billet0 = df_final.drop(['Unnamed: 0'], axis=1)\n",
    "df_billet0.head()"
   ]
  },
  {
   "cell_type": "markdown",
   "id": "1505ae76",
   "metadata": {},
   "source": [
    "### Pertinence des dimensions\n",
    " Procédure descendante ou backward"
   ]
  },
  {
   "cell_type": "code",
   "execution_count": 4,
   "id": "4282fd0e",
   "metadata": {
    "scrolled": true
   },
   "outputs": [
    {
     "name": "stdout",
     "output_type": "stream",
     "text": [
      "                               Generalized Linear Model Regression Results                               \n",
      "=========================================================================================================\n",
      "Dep. Variable:     ['authenticité[False]', 'authenticité[True]']   No. Observations:                 1500\n",
      "Model:                                                       GLM   Df Residuals:                     1493\n",
      "Model Family:                                           Binomial   Df Model:                            6\n",
      "Link Function:                                             Logit   Scale:                          1.0000\n",
      "Method:                                                     IRLS   Log-Likelihood:                -39.513\n",
      "Date:                                           Mon, 23 Jan 2023   Deviance:                       79.025\n",
      "Time:                                                   11:25:33   Pearson chi2:                 2.81e+03\n",
      "No. Iterations:                                               10   Pseudo R-squ. (CS):             0.7049\n",
      "Covariance Type:                                       nonrobust                                         \n",
      "====================================================================================\n",
      "                       coef    std err          z      P>|z|      [0.025      0.975]\n",
      "------------------------------------------------------------------------------------\n",
      "Intercept          230.7559    249.972      0.923      0.356    -259.180     720.692\n",
      "diagonale           -0.2599      1.136     -0.229      0.819      -2.486       1.966\n",
      "hauteur_gauche       1.2808      1.118      1.146      0.252      -0.910       3.471\n",
      "hauteur_droite       2.9006      1.145      2.534      0.011       0.657       5.144\n",
      "marge_superieure    10.2991      2.206      4.668      0.000       5.975      14.623\n",
      "longueur            -6.0561      0.897     -6.751      0.000      -7.814      -4.298\n",
      "marge_inferieure     6.0223      0.987      6.100      0.000       4.087       7.957\n",
      "====================================================================================\n"
     ]
    }
   ],
   "source": [
    "import statsmodels.formula.api as smf\n",
    "import statsmodels.api as sm\n",
    "reg_log = smf.glm('authenticité~diagonale+hauteur_gauche+hauteur_droite+marge_superieure+longueur+marge_inferieure', data=df_billet0, family=sm.families.Binomial()).fit()\n",
    "print(reg_log.summary())"
   ]
  },
  {
   "cell_type": "markdown",
   "id": "1740bdae",
   "metadata": {},
   "source": [
    "Certaines des variables utilisées ont des p-valeurs qui sont inférieures au niveau de test de 5 %, ce qui nous indique qu'elles sont bien significatives. La variable diagonale est au dessus de ce seuil.\n",
    "\n",
    "On peut donc passer sur une procédure de sélection en retirant les variables non significatives au fur et à mesure."
   ]
  },
  {
   "cell_type": "code",
   "execution_count": 5,
   "id": "0129db27",
   "metadata": {
    "scrolled": true
   },
   "outputs": [
    {
     "name": "stdout",
     "output_type": "stream",
     "text": [
      "                               Generalized Linear Model Regression Results                               \n",
      "=========================================================================================================\n",
      "Dep. Variable:     ['authenticité[False]', 'authenticité[True]']   No. Observations:                 1500\n",
      "Model:                                                       GLM   Df Residuals:                     1494\n",
      "Model Family:                                           Binomial   Df Model:                            5\n",
      "Link Function:                                             Logit   Scale:                          1.0000\n",
      "Method:                                                     IRLS   Log-Likelihood:                -39.539\n",
      "Date:                                           Mon, 23 Jan 2023   Deviance:                       79.078\n",
      "Time:                                                   11:25:33   Pearson chi2:                 2.81e+03\n",
      "No. Iterations:                                               10   Pseudo R-squ. (CS):             0.7049\n",
      "Covariance Type:                                       nonrobust                                         \n",
      "====================================================================================\n",
      "                       coef    std err          z      P>|z|      [0.025      0.975]\n",
      "------------------------------------------------------------------------------------\n",
      "Intercept          186.8629    159.602      1.171      0.242    -125.951     499.677\n",
      "hauteur_gauche       1.2812      1.115      1.149      0.251      -0.905       3.467\n",
      "hauteur_droite       2.9147      1.141      2.554      0.011       0.678       5.152\n",
      "marge_superieure    10.3398      2.204      4.691      0.000       6.020      14.660\n",
      "longueur            -6.0802      0.894     -6.798      0.000      -7.833      -4.327\n",
      "marge_inferieure     6.0835      0.958      6.349      0.000       4.206       7.961\n",
      "====================================================================================\n"
     ]
    }
   ],
   "source": [
    "# On supprime la diagonale car a une p-value = 0.8\n",
    "reg_log = smf.glm('authenticité~hauteur_gauche+hauteur_droite+marge_superieure+longueur+marge_inferieure', data=df_billet0, family=sm.families.Binomial()).fit()\n",
    "print(reg_log.summary())"
   ]
  },
  {
   "cell_type": "code",
   "execution_count": 6,
   "id": "f82ea7fd",
   "metadata": {},
   "outputs": [
    {
     "data": {
      "text/html": [
       "<div>\n",
       "<style scoped>\n",
       "    .dataframe tbody tr th:only-of-type {\n",
       "        vertical-align: middle;\n",
       "    }\n",
       "\n",
       "    .dataframe tbody tr th {\n",
       "        vertical-align: top;\n",
       "    }\n",
       "\n",
       "    .dataframe thead th {\n",
       "        text-align: right;\n",
       "    }\n",
       "</style>\n",
       "<table border=\"1\" class=\"dataframe\">\n",
       "  <thead>\n",
       "    <tr style=\"text-align: right;\">\n",
       "      <th></th>\n",
       "      <th>hauteur_gauche</th>\n",
       "      <th>hauteur_droite</th>\n",
       "      <th>marge_superieure</th>\n",
       "      <th>longueur</th>\n",
       "      <th>marge_inferieure</th>\n",
       "    </tr>\n",
       "  </thead>\n",
       "  <tbody>\n",
       "    <tr>\n",
       "      <th>0</th>\n",
       "      <td>104.86</td>\n",
       "      <td>104.95</td>\n",
       "      <td>2.89</td>\n",
       "      <td>112.83</td>\n",
       "      <td>4.52</td>\n",
       "    </tr>\n",
       "    <tr>\n",
       "      <th>1</th>\n",
       "      <td>103.36</td>\n",
       "      <td>103.66</td>\n",
       "      <td>2.99</td>\n",
       "      <td>113.09</td>\n",
       "      <td>3.77</td>\n",
       "    </tr>\n",
       "    <tr>\n",
       "      <th>2</th>\n",
       "      <td>104.48</td>\n",
       "      <td>103.50</td>\n",
       "      <td>2.94</td>\n",
       "      <td>113.16</td>\n",
       "      <td>4.40</td>\n",
       "    </tr>\n",
       "    <tr>\n",
       "      <th>3</th>\n",
       "      <td>103.91</td>\n",
       "      <td>103.94</td>\n",
       "      <td>3.01</td>\n",
       "      <td>113.51</td>\n",
       "      <td>3.62</td>\n",
       "    </tr>\n",
       "    <tr>\n",
       "      <th>4</th>\n",
       "      <td>104.28</td>\n",
       "      <td>103.46</td>\n",
       "      <td>3.48</td>\n",
       "      <td>112.54</td>\n",
       "      <td>4.04</td>\n",
       "    </tr>\n",
       "  </tbody>\n",
       "</table>\n",
       "</div>"
      ],
      "text/plain": [
       "   hauteur_gauche  hauteur_droite  marge_superieure  longueur  \\\n",
       "0          104.86          104.95              2.89    112.83   \n",
       "1          103.36          103.66              2.99    113.09   \n",
       "2          104.48          103.50              2.94    113.16   \n",
       "3          103.91          103.94              3.01    113.51   \n",
       "4          104.28          103.46              3.48    112.54   \n",
       "\n",
       "   marge_inferieure  \n",
       "0              4.52  \n",
       "1              3.77  \n",
       "2              4.40  \n",
       "3              3.62  \n",
       "4              4.04  "
      ]
     },
     "execution_count": 6,
     "metadata": {},
     "output_type": "execute_result"
    }
   ],
   "source": [
    "# Suppression de la colonne authenticité --> df numérique\n",
    "# Suppression de la colonne \"diagonale\" car peu significative\n",
    "df_billet1 = df_billet0.drop(['authenticité', 'diagonale'], axis=1)\n",
    "df_billet1.head()"
   ]
  },
  {
   "cell_type": "markdown",
   "id": "a482b6b0",
   "metadata": {},
   "source": [
    "#### Billets à évaluer"
   ]
  },
  {
   "cell_type": "code",
   "execution_count": 7,
   "id": "a20664e3",
   "metadata": {},
   "outputs": [
    {
     "data": {
      "text/html": [
       "<div>\n",
       "<style scoped>\n",
       "    .dataframe tbody tr th:only-of-type {\n",
       "        vertical-align: middle;\n",
       "    }\n",
       "\n",
       "    .dataframe tbody tr th {\n",
       "        vertical-align: top;\n",
       "    }\n",
       "\n",
       "    .dataframe thead th {\n",
       "        text-align: right;\n",
       "    }\n",
       "</style>\n",
       "<table border=\"1\" class=\"dataframe\">\n",
       "  <thead>\n",
       "    <tr style=\"text-align: right;\">\n",
       "      <th></th>\n",
       "      <th>hauteur_gauche</th>\n",
       "      <th>hauteur_droite</th>\n",
       "      <th>marge_superieure</th>\n",
       "      <th>longueur</th>\n",
       "      <th>marge_inferieure</th>\n",
       "    </tr>\n",
       "  </thead>\n",
       "  <tbody>\n",
       "    <tr>\n",
       "      <th>0</th>\n",
       "      <td>103.95</td>\n",
       "      <td>103.73</td>\n",
       "      <td>3.09</td>\n",
       "      <td>113.19</td>\n",
       "      <td>4.39</td>\n",
       "    </tr>\n",
       "    <tr>\n",
       "      <th>1</th>\n",
       "      <td>104.17</td>\n",
       "      <td>104.03</td>\n",
       "      <td>3.16</td>\n",
       "      <td>111.82</td>\n",
       "      <td>5.27</td>\n",
       "    </tr>\n",
       "    <tr>\n",
       "      <th>2</th>\n",
       "      <td>103.80</td>\n",
       "      <td>103.75</td>\n",
       "      <td>3.24</td>\n",
       "      <td>113.39</td>\n",
       "      <td>3.81</td>\n",
       "    </tr>\n",
       "    <tr>\n",
       "      <th>3</th>\n",
       "      <td>104.08</td>\n",
       "      <td>103.99</td>\n",
       "      <td>3.30</td>\n",
       "      <td>111.10</td>\n",
       "      <td>5.57</td>\n",
       "    </tr>\n",
       "    <tr>\n",
       "      <th>4</th>\n",
       "      <td>104.34</td>\n",
       "      <td>104.37</td>\n",
       "      <td>3.07</td>\n",
       "      <td>111.87</td>\n",
       "      <td>5.00</td>\n",
       "    </tr>\n",
       "  </tbody>\n",
       "</table>\n",
       "</div>"
      ],
      "text/plain": [
       "   hauteur_gauche  hauteur_droite  marge_superieure  longueur  \\\n",
       "0          103.95          103.73              3.09    113.19   \n",
       "1          104.17          104.03              3.16    111.82   \n",
       "2          103.80          103.75              3.24    113.39   \n",
       "3          104.08          103.99              3.30    111.10   \n",
       "4          104.34          104.37              3.07    111.87   \n",
       "\n",
       "   marge_inferieure  \n",
       "0              4.39  \n",
       "1              5.27  \n",
       "2              3.81  \n",
       "3              5.57  \n",
       "4              5.00  "
      ]
     },
     "execution_count": 7,
     "metadata": {},
     "output_type": "execute_result"
    }
   ],
   "source": [
    "# Suppression de la colonne id et diagonale\n",
    "df_test1 = df_test.drop(['id', 'diagonal'], axis=1)\n",
    "# On renomme les colonnes en français\n",
    "df_test1.rename(columns={'length': 'longueur', 'height_left': 'hauteur_gauche', 'height_right': 'hauteur_droite', \n",
    "                          'is_genuine': 'authenticité', 'margin_up': 'marge_superieure',\n",
    "                          'margin_low': 'marge_inferieure'}, inplace=True)\n",
    "# Réorganisation des colonnes\n",
    "df_test1 = df_test1[['hauteur_gauche','hauteur_droite','marge_superieure','longueur','marge_inferieure']]\n",
    "df_test1"
   ]
  },
  {
   "cell_type": "markdown",
   "id": "c160e5e4",
   "metadata": {},
   "source": [
    "# Entrainement du modèle et évaluation"
   ]
  },
  {
   "cell_type": "code",
   "execution_count": 8,
   "id": "b8aa7ea7",
   "metadata": {},
   "outputs": [],
   "source": [
    "# X correspond aux variables explicatives\n",
    "X = df_billet1\n",
    "\n",
    "# y correspond à la variable cible\n",
    "y = df_billet0['authenticité']"
   ]
  },
  {
   "cell_type": "code",
   "execution_count": 9,
   "id": "30d2eacd",
   "metadata": {},
   "outputs": [],
   "source": [
    "#Division du dataset entre le Training set et le Test set\n",
    "from sklearn.model_selection import train_test_split\n",
    "X_train, X_test, y_train, y_test = train_test_split(X, y, test_size = 0.3)"
   ]
  },
  {
   "cell_type": "code",
   "execution_count": 10,
   "id": "04c4492f",
   "metadata": {},
   "outputs": [],
   "source": [
    "from sklearn.linear_model import LogisticRegression\n",
    "# Création du modèle\n",
    "model = LogisticRegression()\n",
    "\n",
    "# Entrainement du modèle\n",
    "model.fit(X_train, y_train)\n",
    "\n",
    "# Prédiction\n",
    "y_pred_test = model.predict(X_test)"
   ]
  },
  {
   "cell_type": "code",
   "execution_count": 11,
   "id": "f328774d",
   "metadata": {
    "scrolled": true
   },
   "outputs": [
    {
     "name": "stdout",
     "output_type": "stream",
     "text": [
      "accuracy score = 0.98\n",
      "\n",
      "Matrice de confusion:\n",
      "[[143   4]\n",
      " [  3 300]]\n"
     ]
    }
   ],
   "source": [
    "# accuracy_score\n",
    "from sklearn.metrics import accuracy_score\n",
    "acc = accuracy_score(y_test, y_pred_test)\n",
    "print(\"accuracy score = \" + str(acc.round(2)))\n",
    "\n",
    "# Matrice de confusion\n",
    "from sklearn.metrics import confusion_matrix\n",
    "cm = confusion_matrix(y_test, y_pred_test, labels = [0,1])\n",
    "\n",
    "print()\n",
    "print(\"Matrice de confusion:\")\n",
    "print(cm)"
   ]
  },
  {
   "cell_type": "markdown",
   "id": "13dcb135",
   "metadata": {},
   "source": [
    "Le score de notre modèle est de 0,99 --> 99% des prédiction sont justes --> Modèle fiable\n",
    "\n",
    "- 140 billets sont des faux (prédiction juste)\n",
    "- 304 billets sont des vrais (prédiction juste)\n",
    "- 4 billets sont des faux alors qu'ils ont été prédits vrais\n",
    "- 2 billets sont vrais alors qu'ils ont été prédits faux"
   ]
  },
  {
   "attachments": {
    "image.png": {
     "image/png": "[encoded data removed]"
    }
   },
   "cell_type": "markdown",
   "id": "a4664e90",
   "metadata": {},
   "source": [
    "![image.png](attachment:image.png)"
   ]
  },
  {
   "cell_type": "markdown",
   "id": "f9284dfd",
   "metadata": {},
   "source": [
    "## Prédiction sur de nouveaux billets"
   ]
  },
  {
   "cell_type": "code",
   "execution_count": 12,
   "id": "70cfc1c6",
   "metadata": {},
   "outputs": [
    {
     "data": {
      "text/plain": [
       "array([ True, False,  True, False, False])"
      ]
     },
     "execution_count": 12,
     "metadata": {},
     "output_type": "execute_result"
    }
   ],
   "source": [
    "# Prédiction\n",
    "y_pred = model.predict(df_test1)\n",
    "y_pred"
   ]
  },
  {
   "cell_type": "code",
   "execution_count": 13,
   "id": "0025d9f1",
   "metadata": {},
   "outputs": [
    {
     "name": "stdout",
     "output_type": "stream",
     "text": [
      "Performance du modèle = 98.44000000000001 %\n"
     ]
    },
    {
     "data": {
      "text/html": [
       "<div>\n",
       "<style scoped>\n",
       "    .dataframe tbody tr th:only-of-type {\n",
       "        vertical-align: middle;\n",
       "    }\n",
       "\n",
       "    .dataframe tbody tr th {\n",
       "        vertical-align: top;\n",
       "    }\n",
       "\n",
       "    .dataframe thead th {\n",
       "        text-align: right;\n",
       "    }\n",
       "</style>\n",
       "<table border=\"1\" class=\"dataframe\">\n",
       "  <thead>\n",
       "    <tr style=\"text-align: right;\">\n",
       "      <th></th>\n",
       "      <th>Authenticité</th>\n",
       "    </tr>\n",
       "    <tr>\n",
       "      <th>id</th>\n",
       "      <th></th>\n",
       "    </tr>\n",
       "  </thead>\n",
       "  <tbody>\n",
       "    <tr>\n",
       "      <th>B_1</th>\n",
       "      <td>True</td>\n",
       "    </tr>\n",
       "    <tr>\n",
       "      <th>B_2</th>\n",
       "      <td>False</td>\n",
       "    </tr>\n",
       "    <tr>\n",
       "      <th>B_3</th>\n",
       "      <td>True</td>\n",
       "    </tr>\n",
       "    <tr>\n",
       "      <th>B_4</th>\n",
       "      <td>False</td>\n",
       "    </tr>\n",
       "    <tr>\n",
       "      <th>B_5</th>\n",
       "      <td>False</td>\n",
       "    </tr>\n",
       "  </tbody>\n",
       "</table>\n",
       "</div>"
      ],
      "text/plain": [
       "     Authenticité\n",
       "id               \n",
       "B_1          True\n",
       "B_2         False\n",
       "B_3          True\n",
       "B_4         False\n",
       "B_5         False"
      ]
     },
     "execution_count": 13,
     "metadata": {},
     "output_type": "execute_result"
    }
   ],
   "source": [
    "# Création d'un df final, accueillant le résultat des prédiction\n",
    "df_pred = pd.DataFrame(y_pred, columns = ['Authenticité'], index = df_test['id'])\n",
    "\n",
    "print(\"Performance du modèle = \" + str(acc.round(4)*100) + \" %\")\n",
    "df_pred"
   ]
  },
  {
   "cell_type": "code",
   "execution_count": null,
   "id": "0d9302ec",
   "metadata": {},
   "outputs": [],
   "source": []
  }
 ],
 "metadata": {
  "kernelspec": {
   "display_name": "Python 3 (ipykernel)",
   "language": "python",
   "name": "python3"
  },
  "language_info": {
   "codemirror_mode": {
    "name": "ipython",
    "version": 3
   },
   "file_extension": ".py",
   "mimetype": "text/x-python",
   "name": "python",
   "nbconvert_exporter": "python",
   "pygments_lexer": "ipython3",
   "version": "3.9.13"
  }
 },
 "nbformat": 4,
 "nbformat_minor": 5
}
